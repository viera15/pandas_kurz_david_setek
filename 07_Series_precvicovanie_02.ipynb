{
 "cells": [
  {
   "cell_type": "markdown",
   "id": "672c0af0-e36d-4602-9ccc-9b67be52c897",
   "metadata": {},
   "source": [
    "## Precvičovanie\n",
    "Tu je pole čísiel, ktoré predstavujú množstvo vydaných Kč z bankomatu číslo 3"
   ]
  },
  {
   "cell_type": "code",
   "execution_count": 2,
   "id": "c32e5805-d9a0-4d5d-bc68-a62f05b7337d",
   "metadata": {},
   "outputs": [],
   "source": [
    "bank_machine_003 = [1000, 2000, 1500, 2000, 8000, 10000, 2500]"
   ]
  },
  {
   "cell_type": "markdown",
   "id": "c707d0ca-53f5-4bc7-80db-c63cb03dbc33",
   "metadata": {},
   "source": [
    "1. Vypočítaj sumu vydaných peňazí a priemernú vydanú čiastku - __priemer__\n",
    "2. Chceme zistiť __počet__ vydaných čiastok"
   ]
  },
  {
   "cell_type": "markdown",
   "id": "9655d0c7-0836-4784-a79e-9ba272d79b4d",
   "metadata": {},
   "source": [
    "Tu sú dátumy, kedy k výberom prišlo"
   ]
  },
  {
   "cell_type": "code",
   "execution_count": 5,
   "id": "e21b70dc-0611-40d6-a4a7-d5ec2469bff6",
   "metadata": {},
   "outputs": [],
   "source": [
    "bank_machine_003_dates = ['1.1', '3.1', '3.1', '4.1','6.1', '9.1', '10.1']"
   ]
  },
  {
   "cell_type": "markdown",
   "id": "1b2b776b-dd7a-4297-a481-c56ab4708c35",
   "metadata": {},
   "source": [
    "1. Vytvor Series, kde dátumy budú predstavovať indexy (labely) a výbery budú hodnoty (data)"
   ]
  },
  {
   "cell_type": "code",
   "execution_count": 7,
   "id": "10caf113-f918-4c8b-9695-9e2062ced4fd",
   "metadata": {},
   "outputs": [],
   "source": [
    "import pandas as pd"
   ]
  },
  {
   "cell_type": "code",
   "execution_count": 8,
   "id": "95124d03-a121-49b6-a088-e1ce012364d5",
   "metadata": {},
   "outputs": [
    {
     "data": {
      "text/plain": [
       "0     1000\n",
       "1     2000\n",
       "2     1500\n",
       "3     2000\n",
       "4     8000\n",
       "5    10000\n",
       "6     2500\n",
       "dtype: int64"
      ]
     },
     "execution_count": 8,
     "metadata": {},
     "output_type": "execute_result"
    }
   ],
   "source": [
    "bank_machine_003_s = pd.Series(bank_machine_003)\n",
    "bank_machine_003_s\n",
    "# prevod listu na Series"
   ]
  },
  {
   "cell_type": "code",
   "execution_count": 9,
   "id": "a204a7da-a3b9-4326-94a0-cced181718a1",
   "metadata": {},
   "outputs": [
    {
     "data": {
      "text/plain": [
       "27000"
      ]
     },
     "execution_count": 9,
     "metadata": {},
     "output_type": "execute_result"
    }
   ],
   "source": [
    "bank_machine_003_s.sum()\n",
    "# súčet výberov z bankomatu číslo 3"
   ]
  },
  {
   "cell_type": "code",
   "execution_count": 10,
   "id": "966c8483-9a00-452f-86b0-d59e1f4f180e",
   "metadata": {},
   "outputs": [
    {
     "data": {
      "text/plain": [
       "3857.1428571428573"
      ]
     },
     "execution_count": 10,
     "metadata": {},
     "output_type": "execute_result"
    }
   ],
   "source": [
    "bank_machine_003_s.mean()\n",
    "# priemer z vydaných čiastok"
   ]
  },
  {
   "cell_type": "code",
   "execution_count": 21,
   "id": "d2470734-f103-4e8e-8173-d4be8f2d6284",
   "metadata": {},
   "outputs": [
    {
     "data": {
      "text/plain": [
       "7"
      ]
     },
     "execution_count": 21,
     "metadata": {},
     "output_type": "execute_result"
    }
   ],
   "source": [
    "bank_machine_003_s.size\n",
    "# počet vydaných čiastok"
   ]
  },
  {
   "cell_type": "code",
   "execution_count": 11,
   "id": "bd38abf3-9215-4245-8b82-24bd293e038a",
   "metadata": {},
   "outputs": [
    {
     "data": {
      "text/plain": [
       "1.1      1000\n",
       "3.1      2000\n",
       "3.1      1500\n",
       "4.1      2000\n",
       "6.1      8000\n",
       "9.1     10000\n",
       "10.1     2500\n",
       "dtype: int64"
      ]
     },
     "execution_count": 11,
     "metadata": {},
     "output_type": "execute_result"
    }
   ],
   "source": [
    "pd.Series(data=bank_machine_003, index=bank_machine_003_dates)\n",
    "# vytvorenie dvoch stĺpcov, kde dátumy sú indexy a výbery sú dáta"
   ]
  }
 ],
 "metadata": {
  "kernelspec": {
   "display_name": "Python 3 (ipykernel)",
   "language": "python",
   "name": "python3"
  },
  "language_info": {
   "codemirror_mode": {
    "name": "ipython",
    "version": 3
   },
   "file_extension": ".py",
   "mimetype": "text/x-python",
   "name": "python",
   "nbconvert_exporter": "python",
   "pygments_lexer": "ipython3",
   "version": "3.12.4"
  }
 },
 "nbformat": 4,
 "nbformat_minor": 5
}
