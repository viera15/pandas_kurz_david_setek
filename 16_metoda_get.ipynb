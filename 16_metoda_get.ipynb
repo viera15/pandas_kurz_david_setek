{
 "cells": [
  {
   "cell_type": "markdown",
   "id": "87556e8c-3761-4bb9-b4fb-8f3ffbfde5e7",
   "metadata": {},
   "source": [
    "## Metóda .get"
   ]
  },
  {
   "cell_type": "code",
   "execution_count": 2,
   "id": "5f1238d7-f220-4c3d-867b-611c46998926",
   "metadata": {},
   "outputs": [],
   "source": [
    "import pandas as pd"
   ]
  },
  {
   "cell_type": "code",
   "execution_count": 5,
   "id": "ed3c8785-797b-487e-a45c-6e74c9e44e90",
   "metadata": {},
   "outputs": [
    {
     "data": {
      "text/plain": [
       "last_name\n",
       "Gotts            sgotts0@newsvine.com\n",
       "Linsey                slinsey1@qq.com\n",
       "Gorton             agorton2@google.es\n",
       "Steanyng         gsteanyng3@google.fr\n",
       "Cockaday              bcockaday4@t.co\n",
       "                      ...            \n",
       "Oppy           foppy5f@shutterfly.com\n",
       "Labbati     alabbati5g@yellowbook.com\n",
       "Cordery           acordery5h@furl.net\n",
       "Laughren      alaughren5i@yahoo.co.jp\n",
       "Peckitt       hpeckitt5j@multiply.com\n",
       "Name: email, Length: 200, dtype: object"
      ]
     },
     "execution_count": 5,
     "metadata": {},
     "output_type": "execute_result"
    }
   ],
   "source": [
    "bank_users = pd.read_csv(\"bank_users.csv\", usecols= [\"last_name\", \"email\"], index_col= \"last_name\").squeeze(\"columns\")\n",
    "bank_users"
   ]
  },
  {
   "cell_type": "code",
   "execution_count": 9,
   "id": "19ebd181-5ec6-4351-a474-391074db01d2",
   "metadata": {},
   "outputs": [
    {
     "data": {
      "text/plain": [
       "'sgotts0@newsvine.com'"
      ]
     },
     "execution_count": 9,
     "metadata": {},
     "output_type": "execute_result"
    }
   ],
   "source": [
    "bank_users.loc[\"Gotts\"]"
   ]
  },
  {
   "cell_type": "code",
   "execution_count": 11,
   "id": "42014d7a-934f-4398-bc2f-b99f4f0d58b0",
   "metadata": {},
   "outputs": [
    {
     "data": {
      "text/plain": [
       "'sgotts0@newsvine.com'"
      ]
     },
     "execution_count": 11,
     "metadata": {},
     "output_type": "execute_result"
    }
   ],
   "source": [
    "bank_users.get(\"Gotts\")"
   ]
  },
  {
   "cell_type": "code",
   "execution_count": 15,
   "id": "604aae15-438c-4fda-b238-0c574c9b04fb",
   "metadata": {},
   "outputs": [
    {
     "data": {
      "text/plain": [
       "'NenasloSa'"
      ]
     },
     "execution_count": 15,
     "metadata": {},
     "output_type": "execute_result"
    }
   ],
   "source": [
    "bank_users.get(\"Gott\", \"NenasloSa\")\n",
    "# metóda .get slúži na vyhľadávanie textových znakov/reťazcov, ale na rozdiel od meódy .loc, je možné zadať, čo sa má zobraziť, ak reťazec nenájde"
   ]
  },
  {
   "cell_type": "code",
   "execution_count": 23,
   "id": "73961fd9-3aa9-4ccd-84b6-483bc5206030",
   "metadata": {},
   "outputs": [
    {
     "data": {
      "text/plain": [
       "last_name\n",
       "Gotts     sgotts0@newsvine.com\n",
       "Linsey         slinsey1@qq.com\n",
       "Name: email, dtype: object"
      ]
     },
     "execution_count": 23,
     "metadata": {},
     "output_type": "execute_result"
    }
   ],
   "source": [
    "bank_users.get(['Gotts', 'Linsey'])\n",
    "# výhodou metódy .get je, že do listu/zoznamu môžeme zadať viac hodnôt pre vyhľadávanie"
   ]
  },
  {
   "cell_type": "code",
   "execution_count": 29,
   "id": "b3dc8cbc-9393-4357-ba6a-5a4a6cde2ac8",
   "metadata": {},
   "outputs": [
    {
     "data": {
      "text/plain": [
       "'Minimum one of them doesnt exist'"
      ]
     },
     "execution_count": 29,
     "metadata": {},
     "output_type": "execute_result"
    }
   ],
   "source": [
    "bank_users.get(['Gottsxxxx', 'Linseyxxx'], 'Minimum one of them doesnt exist')\n",
    "# vypíše, že \"Minimálne jeden z nich nebol nájdený\""
   ]
  }
 ],
 "metadata": {
  "kernelspec": {
   "display_name": "Python 3 (ipykernel)",
   "language": "python",
   "name": "python3"
  },
  "language_info": {
   "codemirror_mode": {
    "name": "ipython",
    "version": 3
   },
   "file_extension": ".py",
   "mimetype": "text/x-python",
   "name": "python",
   "nbconvert_exporter": "python",
   "pygments_lexer": "ipython3",
   "version": "3.12.4"
  }
 },
 "nbformat": 4,
 "nbformat_minor": 5
}
