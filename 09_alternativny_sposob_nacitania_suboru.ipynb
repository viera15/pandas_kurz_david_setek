{
 "cells": [
  {
   "cell_type": "markdown",
   "id": "9e4fe48c-8d91-44e0-88e7-1f63eeb9e8e1",
   "metadata": {},
   "source": [
    "## Alternatívny spôsob načítania súboru do dataframu\n",
    "Keď potrebujeme z veľkej tabuľky s veľa stĺpcami si vytiahnuť do dataframu len určité stĺpce, tak použijeme parameter usecols"
   ]
  },
  {
   "cell_type": "code",
   "execution_count": 2,
   "id": "538b1965-a3a9-449b-9fd2-3041a509499a",
   "metadata": {},
   "outputs": [],
   "source": [
    "import pandas as pd"
   ]
  },
  {
   "cell_type": "code",
   "execution_count": 14,
   "id": "bc787261-3eb7-421f-88b5-176954e1fb19",
   "metadata": {},
   "outputs": [],
   "source": [
    "# bank_users = pd.read_csv(\"bank_users.csv\", usecols=[\"first_name\", \"last_name\"])\n",
    "#bank_users\n",
    "# vyberieme dva stĺpce do dataframu"
   ]
  },
  {
   "cell_type": "code",
   "execution_count": 12,
   "id": "a048aa1c-22fc-46c9-8ac4-08cc1935ae49",
   "metadata": {},
   "outputs": [],
   "source": [
    "# type(bank_users)"
   ]
  },
  {
   "cell_type": "markdown",
   "id": "2c552bb0-311f-4854-9623-80931c7f0a01",
   "metadata": {},
   "source": [
    "Keď si vytiahneme len 1 stĺpec, tak si ho hneď môžeme previesť na Series"
   ]
  },
  {
   "cell_type": "code",
   "execution_count": 17,
   "id": "70220c8c-ead8-45dc-915d-44323a757705",
   "metadata": {},
   "outputs": [
    {
     "data": {
      "text/plain": [
       "0          Shawn\n",
       "1       Sergeant\n",
       "2       Ambrosio\n",
       "3           Gram\n",
       "4          Britt\n",
       "         ...    \n",
       "195        Franz\n",
       "196     Adolphus\n",
       "197      Aurelea\n",
       "198    Armstrong\n",
       "199    Henrietta\n",
       "Name: first_name, Length: 200, dtype: object"
      ]
     },
     "execution_count": 17,
     "metadata": {},
     "output_type": "execute_result"
    }
   ],
   "source": [
    "bank_users = pd.read_csv(\"bank_users.csv\", usecols=[\"first_name\"]).squeeze(\"columns\")\n",
    "bank_users"
   ]
  },
  {
   "cell_type": "code",
   "execution_count": 21,
   "id": "8a4a927d-7d34-4a1f-9bb7-41285d574208",
   "metadata": {},
   "outputs": [
    {
     "data": {
      "text/plain": [
       "pandas.core.series.Series"
      ]
     },
     "execution_count": 21,
     "metadata": {},
     "output_type": "execute_result"
    }
   ],
   "source": [
    "type(bank_users)"
   ]
  },
  {
   "cell_type": "code",
   "execution_count": 23,
   "id": "985440b1-bb15-40d9-9c48-cc293397f13f",
   "metadata": {},
   "outputs": [
    {
     "data": {
      "text/plain": [
       "0          Shawn\n",
       "1       Sergeant\n",
       "2       Ambrosio\n",
       "3           Gram\n",
       "4          Britt\n",
       "         ...    \n",
       "195        Franz\n",
       "196     Adolphus\n",
       "197      Aurelea\n",
       "198    Armstrong\n",
       "199    Henrietta\n",
       "Name: first_name, Length: 200, dtype: object"
      ]
     },
     "execution_count": 23,
     "metadata": {},
     "output_type": "execute_result"
    }
   ],
   "source": [
    "bank_users = pd.read_csv(\"bank_users.csv\")[\"first_name\"]\n",
    "bank_users\n",
    "# ďalší alternatívny zápis kedy výsledkom je Series z jednoho stĺpca"
   ]
  },
  {
   "cell_type": "code",
   "execution_count": 25,
   "id": "1b90819b-b2ad-406d-937e-a637d876a360",
   "metadata": {},
   "outputs": [
    {
     "data": {
      "text/plain": [
       "pandas.core.series.Series"
      ]
     },
     "execution_count": 25,
     "metadata": {},
     "output_type": "execute_result"
    }
   ],
   "source": [
    "type(bank_users)"
   ]
  }
 ],
 "metadata": {
  "kernelspec": {
   "display_name": "Python 3 (ipykernel)",
   "language": "python",
   "name": "python3"
  },
  "language_info": {
   "codemirror_mode": {
    "name": "ipython",
    "version": 3
   },
   "file_extension": ".py",
   "mimetype": "text/x-python",
   "name": "python",
   "nbconvert_exporter": "python",
   "pygments_lexer": "ipython3",
   "version": "3.12.4"
  }
 },
 "nbformat": 4,
 "nbformat_minor": 5
}
