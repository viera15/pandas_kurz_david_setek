{
 "cells": [
  {
   "cell_type": "markdown",
   "id": "8318f5a3-ee92-49bc-87d8-d28057f67dd9",
   "metadata": {},
   "source": [
    "## Zoradovanie dát"
   ]
  },
  {
   "cell_type": "code",
   "execution_count": 3,
   "id": "f54e012e-5283-4ce0-8b23-d37467cf5c96",
   "metadata": {},
   "outputs": [],
   "source": [
    "import pandas as pd"
   ]
  },
  {
   "cell_type": "code",
   "execution_count": 7,
   "id": "9f40afbe-779a-4fcc-a3dc-1277ba18c080",
   "metadata": {},
   "outputs": [
    {
     "data": {
      "text/plain": [
       "0         Gotts\n",
       "1        Linsey\n",
       "2        Gorton\n",
       "3      Steanyng\n",
       "4      Cockaday\n",
       "         ...   \n",
       "195        Oppy\n",
       "196     Labbati\n",
       "197     Cordery\n",
       "198    Laughren\n",
       "199     Peckitt\n",
       "Name: last_name, Length: 200, dtype: object"
      ]
     },
     "execution_count": 7,
     "metadata": {},
     "output_type": "execute_result"
    }
   ],
   "source": [
    "last_names = pd.read_csv(\"bank_users.csv\")[\"last_name\"]\n",
    "last_names"
   ]
  },
  {
   "cell_type": "code",
   "execution_count": 9,
   "id": "db6ad71d-76a9-4d9a-ab15-5fe06280d828",
   "metadata": {},
   "outputs": [
    {
     "data": {
      "text/plain": [
       "0      58.0\n",
       "1      70.0\n",
       "2      48.0\n",
       "3      92.0\n",
       "4      78.0\n",
       "       ... \n",
       "195    90.0\n",
       "196    56.0\n",
       "197     NaN\n",
       "198    87.0\n",
       "199     NaN\n",
       "Name: bank_account, Length: 200, dtype: float64"
      ]
     },
     "execution_count": 9,
     "metadata": {},
     "output_type": "execute_result"
    }
   ],
   "source": [
    "bank_account = pd.read_csv(\"bank_users.csv\")[\"bank_account\"]\n",
    "bank_account"
   ]
  },
  {
   "cell_type": "code",
   "execution_count": 11,
   "id": "7ccdcdb7-7a40-4a0d-8c8b-395cf6be1d4d",
   "metadata": {},
   "outputs": [
    {
     "data": {
      "text/plain": [
       "63         Adamec\n",
       "173      Alyokhin\n",
       "184      Ancliffe\n",
       "116         Artis\n",
       "39            Ary\n",
       "          ...    \n",
       "191        Wraith\n",
       "71     Yakobovicz\n",
       "188       Yglesia\n",
       "15       Youngman\n",
       "82        Yushkin\n",
       "Name: last_name, Length: 200, dtype: object"
      ]
     },
     "execution_count": 11,
     "metadata": {},
     "output_type": "execute_result"
    }
   ],
   "source": [
    "last_names.sort_values()\n",
    "# zoradí textové hodnoty podľa abecedy"
   ]
  },
  {
   "cell_type": "code",
   "execution_count": 13,
   "id": "f9f5dbd9-6d16-415f-b1a2-134120f3940c",
   "metadata": {},
   "outputs": [
    {
     "data": {
      "text/plain": [
       "174    10.0\n",
       "34     10.0\n",
       "65     10.0\n",
       "125    11.0\n",
       "89     11.0\n",
       "       ... \n",
       "151     NaN\n",
       "166     NaN\n",
       "169     NaN\n",
       "197     NaN\n",
       "199     NaN\n",
       "Name: bank_account, Length: 200, dtype: float64"
      ]
     },
     "execution_count": 13,
     "metadata": {},
     "output_type": "execute_result"
    }
   ],
   "source": [
    "bank_account.sort_values()"
   ]
  },
  {
   "cell_type": "code",
   "execution_count": 15,
   "id": "e36b0fda-9195-4309-9a2f-6196e30679e3",
   "metadata": {},
   "outputs": [
    {
     "data": {
      "text/plain": [
       "63         Adamec\n",
       "173      Alyokhin\n",
       "184      Ancliffe\n",
       "116         Artis\n",
       "39            Ary\n",
       "          ...    \n",
       "191        Wraith\n",
       "71     Yakobovicz\n",
       "188       Yglesia\n",
       "15       Youngman\n",
       "82        Yushkin\n",
       "Name: last_name, Length: 200, dtype: object"
      ]
     },
     "execution_count": 15,
     "metadata": {},
     "output_type": "execute_result"
    }
   ],
   "source": [
    "last_names.sort_values(ascending=True)\n",
    "# True je východzia hodnota a zoradí A - Z, 0 - 9"
   ]
  },
  {
   "cell_type": "code",
   "execution_count": 17,
   "id": "03f6c642-3734-4218-98cf-309dc0d42639",
   "metadata": {},
   "outputs": [
    {
     "data": {
      "text/plain": [
       "82        Yushkin\n",
       "15       Youngman\n",
       "188       Yglesia\n",
       "71     Yakobovicz\n",
       "191        Wraith\n",
       "          ...    \n",
       "39            Ary\n",
       "116         Artis\n",
       "184      Ancliffe\n",
       "173      Alyokhin\n",
       "63         Adamec\n",
       "Name: last_name, Length: 200, dtype: object"
      ]
     },
     "execution_count": 17,
     "metadata": {},
     "output_type": "execute_result"
    }
   ],
   "source": [
    "last_names.sort_values(ascending=False)\n",
    "# zoradí Z - A, 9 - 0"
   ]
  },
  {
   "cell_type": "code",
   "execution_count": 19,
   "id": "1ce90170-50fd-4976-893b-1908fcc96f3c",
   "metadata": {},
   "outputs": [
    {
     "data": {
      "text/plain": [
       "82        Yushkin\n",
       "15       Youngman\n",
       "188       Yglesia\n",
       "71     Yakobovicz\n",
       "191        Wraith\n",
       "177        Wickey\n",
       "190    Whitchurch\n",
       "102      Wharlton\n",
       "62         Vuitte\n",
       "128      Verecker\n",
       "Name: last_name, dtype: object"
      ]
     },
     "execution_count": 19,
     "metadata": {},
     "output_type": "execute_result"
    }
   ],
   "source": [
    "last_names.sort_values(ascending=False).head(10)\n",
    "# funkcie a metódy je možné reťaziť"
   ]
  }
 ],
 "metadata": {
  "kernelspec": {
   "display_name": "Python 3 (ipykernel)",
   "language": "python",
   "name": "python3"
  },
  "language_info": {
   "codemirror_mode": {
    "name": "ipython",
    "version": 3
   },
   "file_extension": ".py",
   "mimetype": "text/x-python",
   "name": "python",
   "nbconvert_exporter": "python",
   "pygments_lexer": "ipython3",
   "version": "3.12.4"
  }
 },
 "nbformat": 4,
 "nbformat_minor": 5
}
