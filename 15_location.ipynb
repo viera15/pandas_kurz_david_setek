{
 "cells": [
  {
   "cell_type": "markdown",
   "id": "08fd8835-99ed-4c11-807d-078b8b2e89dc",
   "metadata": {},
   "source": [
    "## Index location - .loc"
   ]
  },
  {
   "cell_type": "code",
   "execution_count": 4,
   "id": "7c6b0110-a8a0-46e6-9979-bb683aaae8a5",
   "metadata": {},
   "outputs": [],
   "source": [
    "import pandas as pd"
   ]
  },
  {
   "cell_type": "code",
   "execution_count": 6,
   "id": "166cd46e-7989-4dac-b340-af81f4e4926b",
   "metadata": {},
   "outputs": [
    {
     "data": {
      "text/plain": [
       "0         Gotts\n",
       "1        Linsey\n",
       "2        Gorton\n",
       "3      Steanyng\n",
       "4      Cockaday\n",
       "         ...   \n",
       "195        Oppy\n",
       "196     Labbati\n",
       "197     Cordery\n",
       "198    Laughren\n",
       "199     Peckitt\n",
       "Name: last_name, Length: 200, dtype: object"
      ]
     },
     "execution_count": 6,
     "metadata": {},
     "output_type": "execute_result"
    }
   ],
   "source": [
    "bank_users = pd.read_csv(\"bank_users.csv\", usecols= [\"last_name\"]).squeeze()\n",
    "bank_users"
   ]
  },
  {
   "cell_type": "code",
   "execution_count": 8,
   "id": "9b4b4051-bacd-424f-afd4-8b54a2eb58bb",
   "metadata": {},
   "outputs": [
    {
     "data": {
      "text/plain": [
       "'Gotts'"
      ]
     },
     "execution_count": 8,
     "metadata": {},
     "output_type": "execute_result"
    }
   ],
   "source": [
    "bank_users.iloc[0]"
   ]
  },
  {
   "cell_type": "code",
   "execution_count": 10,
   "id": "89bdb34b-7488-4cee-8593-e0a952c29ecb",
   "metadata": {},
   "outputs": [
    {
     "data": {
      "text/plain": [
       "'Gotts'"
      ]
     },
     "execution_count": 10,
     "metadata": {},
     "output_type": "execute_result"
    }
   ],
   "source": [
    "bank_users.loc[0]"
   ]
  },
  {
   "cell_type": "code",
   "execution_count": 14,
   "id": "0d982c90-c398-4245-a735-c94598466078",
   "metadata": {},
   "outputs": [
    {
     "data": {
      "text/plain": [
       "last_name\n",
       "Gotts            sgotts0@newsvine.com\n",
       "Linsey                slinsey1@qq.com\n",
       "Gorton             agorton2@google.es\n",
       "Steanyng         gsteanyng3@google.fr\n",
       "Cockaday              bcockaday4@t.co\n",
       "                      ...            \n",
       "Oppy           foppy5f@shutterfly.com\n",
       "Labbati     alabbati5g@yellowbook.com\n",
       "Cordery           acordery5h@furl.net\n",
       "Laughren      alaughren5i@yahoo.co.jp\n",
       "Peckitt       hpeckitt5j@multiply.com\n",
       "Name: email, Length: 200, dtype: object"
      ]
     },
     "execution_count": 14,
     "metadata": {},
     "output_type": "execute_result"
    }
   ],
   "source": [
    "bank_users = pd.read_csv(\"bank_users.csv\", usecols= [\"last_name\", \"email\"], index_col= \"last_name\").squeeze(\"columns\")\n",
    "bank_users\n",
    "# načíta zo súboru  stĺpec \"last_name\" a ten sa stane indexom a stĺpec \"email\" a ten bude Series s hodnotami"
   ]
  },
  {
   "cell_type": "code",
   "execution_count": 18,
   "id": "82af38a4-fb70-44f2-9f6d-8c2873740d19",
   "metadata": {},
   "outputs": [],
   "source": [
    "# bank_users.iloc[\"Gotts\"]\n",
    "# vyhodí chybu Cannot index by location index with a non-integer key - index musí byť číslo!!!!!!"
   ]
  },
  {
   "cell_type": "code",
   "execution_count": 22,
   "id": "06c8f494-ff22-4083-a724-8a8e4edc1ef4",
   "metadata": {},
   "outputs": [
    {
     "data": {
      "text/plain": [
       "'sgotts0@newsvine.com'"
      ]
     },
     "execution_count": 22,
     "metadata": {},
     "output_type": "execute_result"
    }
   ],
   "source": [
    "bank_users.loc[\"Gotts\"]\n",
    "# príkaz .loc umožňuje vyhľadávať textových indexoch"
   ]
  }
 ],
 "metadata": {
  "kernelspec": {
   "display_name": "Python 3 (ipykernel)",
   "language": "python",
   "name": "python3"
  },
  "language_info": {
   "codemirror_mode": {
    "name": "ipython",
    "version": 3
   },
   "file_extension": ".py",
   "mimetype": "text/x-python",
   "name": "python",
   "nbconvert_exporter": "python",
   "pygments_lexer": "ipython3",
   "version": "3.12.4"
  }
 },
 "nbformat": 4,
 "nbformat_minor": 5
}
