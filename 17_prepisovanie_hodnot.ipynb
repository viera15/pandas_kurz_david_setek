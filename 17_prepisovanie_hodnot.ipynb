{
 "cells": [
  {
   "cell_type": "markdown",
   "id": "9d48ff9e-c571-4d3e-9017-b1d1456193a6",
   "metadata": {},
   "source": [
    "## Prepisovanie hodnôt"
   ]
  },
  {
   "cell_type": "code",
   "execution_count": 1,
   "id": "230fd449-03d0-4938-a130-f43a7d31cfd5",
   "metadata": {},
   "outputs": [],
   "source": [
    "import pandas as pd"
   ]
  },
  {
   "cell_type": "code",
   "execution_count": 4,
   "id": "9eafd74e-2855-4f1e-8e85-b2be48d8edb2",
   "metadata": {},
   "outputs": [
    {
     "data": {
      "text/plain": [
       "0         Gotts\n",
       "1        Linsey\n",
       "2        Gorton\n",
       "3      Steanyng\n",
       "4      Cockaday\n",
       "         ...   \n",
       "195        Oppy\n",
       "196     Labbati\n",
       "197     Cordery\n",
       "198    Laughren\n",
       "199     Peckitt\n",
       "Name: last_name, Length: 200, dtype: object"
      ]
     },
     "execution_count": 4,
     "metadata": {},
     "output_type": "execute_result"
    }
   ],
   "source": [
    "bank_users = pd.read_csv(\"bank_users.csv\", usecols= [\"last_name\"]).squeeze(\"columns\")\n",
    "bank_users"
   ]
  },
  {
   "cell_type": "code",
   "execution_count": 6,
   "id": "83c61a52-fe82-4932-8931-31c159b7713f",
   "metadata": {},
   "outputs": [
    {
     "data": {
      "text/plain": [
       "0    Rajnáková\n",
       "1       Linsey\n",
       "2       Gorton\n",
       "3     Steanyng\n",
       "4     Cockaday\n",
       "Name: last_name, dtype: object"
      ]
     },
     "execution_count": 6,
     "metadata": {},
     "output_type": "execute_result"
    }
   ],
   "source": [
    "bank_users[0] = \"Rajnáková\"\n",
    "bank_users.head()\n",
    "# zmení hodnotu na indexe 0"
   ]
  },
  {
   "cell_type": "code",
   "execution_count": 7,
   "id": "7318a66c-1371-4f07-9581-118e42800e6c",
   "metadata": {},
   "outputs": [
    {
     "data": {
      "text/plain": [
       "0    Rajnáková\n",
       "1        Harry\n",
       "2          Ron\n",
       "3     Hermiona\n",
       "4     Cockaday\n",
       "Name: last_name, dtype: object"
      ]
     },
     "execution_count": 7,
     "metadata": {},
     "output_type": "execute_result"
    }
   ],
   "source": [
    "bank_users[[1,2,3]] = [\"Harry\", \"Ron\", \"Hermiona\"]\n",
    "bank_users.head()\n",
    "# zmení hodnoty na indexoch 1,2,3"
   ]
  },
  {
   "cell_type": "code",
   "execution_count": 8,
   "id": "3aedeade-f690-4ab2-8f75-dd2ec2ca136e",
   "metadata": {},
   "outputs": [
    {
     "data": {
      "text/plain": [
       "0      Potter\n",
       "1       Harry\n",
       "2         Ron\n",
       "3    Hermiona\n",
       "4    Cockaday\n",
       "Name: last_name, dtype: object"
      ]
     },
     "execution_count": 8,
     "metadata": {},
     "output_type": "execute_result"
    }
   ],
   "source": [
    "bank_users.iloc[0] = \"Potter\"\n",
    "bank_users.head()\n",
    "# zmení hodnotu na indexe 0 z \"Rajnáková\" na \"Potter\"; iný spôsob zápisu"
   ]
  },
  {
   "cell_type": "code",
   "execution_count": 9,
   "id": "af71cc29-75f8-4621-80ba-2096e72cb6b9",
   "metadata": {},
   "outputs": [
    {
     "data": {
      "text/plain": [
       "0      Potter\n",
       "1        Prvý\n",
       "2       Druhý\n",
       "3       Tretí\n",
       "4    Cockaday\n",
       "Name: last_name, dtype: object"
      ]
     },
     "execution_count": 9,
     "metadata": {},
     "output_type": "execute_result"
    }
   ],
   "source": [
    "bank_users.iloc[[1,2,3]] = [\"Prvý\", \"Druhý\", \"Tretí\"]\n",
    "bank_users.head()\n",
    "# zmení hodnoty na indexoch 1,2,3"
   ]
  },
  {
   "cell_type": "markdown",
   "id": "a546b88f-4527-41a4-b2ad-8c04fe8ff524",
   "metadata": {},
   "source": [
    "Nie je rozdiel medzi použitím .iloc a .loc pri prepisovaní hodnôt s celočíselnými indexami. Ak by boli indexy textové alebo zmiešané s číslami, tak sa dá použiť len .loc. "
   ]
  }
 ],
 "metadata": {
  "kernelspec": {
   "display_name": "Python 3 (ipykernel)",
   "language": "python",
   "name": "python3"
  },
  "language_info": {
   "codemirror_mode": {
    "name": "ipython",
    "version": 3
   },
   "file_extension": ".py",
   "mimetype": "text/x-python",
   "name": "python",
   "nbconvert_exporter": "python",
   "pygments_lexer": "ipython3",
   "version": "3.12.4"
  }
 },
 "nbformat": 4,
 "nbformat_minor": 5
}
