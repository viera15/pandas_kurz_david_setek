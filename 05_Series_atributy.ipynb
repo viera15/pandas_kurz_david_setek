{
 "cells": [
  {
   "cell_type": "code",
   "execution_count": 1,
   "id": "577ac056-e54e-43a2-b7cd-f9dc09dafdff",
   "metadata": {},
   "outputs": [],
   "source": [
    "import pandas as pd"
   ]
  },
  {
   "cell_type": "code",
   "execution_count": 4,
   "id": "b4e61d79-8791-413c-b9c9-be87fe57b043",
   "metadata": {},
   "outputs": [
    {
     "data": {
      "text/plain": [
       "0           smartphone\n",
       "1               laptop\n",
       "2                 dron\n",
       "3    virtuální realita\n",
       "4          3D tiskárna\n",
       "dtype: object"
      ]
     },
     "execution_count": 4,
     "metadata": {},
     "output_type": "execute_result"
    }
   ],
   "source": [
    "technology_list = [\"smartphone\", \"laptop\", \"dron\", \"virtuální realita\", \"3D tiskárna\"]\n",
    "technology_list_series = pd.Series(technology_list)\n",
    "technology_list_series"
   ]
  },
  {
   "cell_type": "markdown",
   "id": "87c849a9-d154-494f-bdbc-1749bf3623e3",
   "metadata": {},
   "source": [
    "__Metóda__ je typická tým, že sú tam zátvorky, napr. technology_list_series.str.contains(\"a\"), ktoré môžu byť prázdne alebo sa do nich dá nejaká podmienka alebo nastavenie."
   ]
  },
  {
   "cell_type": "code",
   "execution_count": 7,
   "id": "10e1e102-abc4-4ba8-8de9-7fefdace638d",
   "metadata": {},
   "outputs": [
    {
     "data": {
      "text/plain": [
       "5"
      ]
     },
     "execution_count": 7,
     "metadata": {},
     "output_type": "execute_result"
    }
   ],
   "source": [
    "technology_list_series.size\n",
    "# výsledok SIZE je veľkosť Series"
   ]
  },
  {
   "cell_type": "markdown",
   "id": "cce01f6b-db6a-4247-bc43-86b4c3e447be",
   "metadata": {},
   "source": [
    "__Atribút__ napr. SIZE nemá zátvorky. "
   ]
  },
  {
   "cell_type": "code",
   "execution_count": 10,
   "id": "d2288c07-477f-46da-8240-1ba341b01e5e",
   "metadata": {},
   "outputs": [
    {
     "data": {
      "text/plain": [
       "True"
      ]
     },
     "execution_count": 10,
     "metadata": {},
     "output_type": "execute_result"
    }
   ],
   "source": [
    "technology_list_series.is_unique\n",
    "# či sú všetky hodnoty unikátne, jedinečné"
   ]
  },
  {
   "cell_type": "code",
   "execution_count": 12,
   "id": "02fc4f70-ab9c-452d-b1ff-01d068f50e67",
   "metadata": {},
   "outputs": [
    {
     "data": {
      "text/plain": [
       "array(['smartphone', 'laptop', 'dron', 'virtuální realita', '3D tiskárna'],\n",
       "      dtype=object)"
      ]
     },
     "execution_count": 12,
     "metadata": {},
     "output_type": "execute_result"
    }
   ],
   "source": [
    "technology_list_series.values\n",
    "# vypíše jednotlivé hodnoty Series"
   ]
  },
  {
   "cell_type": "code",
   "execution_count": 14,
   "id": "391d079f-5168-42ce-be0a-8a2f42bcccfc",
   "metadata": {},
   "outputs": [
    {
     "data": {
      "text/plain": [
       "RangeIndex(start=0, stop=5, step=1)"
      ]
     },
     "execution_count": 14,
     "metadata": {},
     "output_type": "execute_result"
    }
   ],
   "source": [
    "technology_list_series.index\n",
    "# vypíše rozsah indexov k danej Series"
   ]
  }
 ],
 "metadata": {
  "kernelspec": {
   "display_name": "Python 3 (ipykernel)",
   "language": "python",
   "name": "python3"
  },
  "language_info": {
   "codemirror_mode": {
    "name": "ipython",
    "version": 3
   },
   "file_extension": ".py",
   "mimetype": "text/x-python",
   "name": "python",
   "nbconvert_exporter": "python",
   "pygments_lexer": "ipython3",
   "version": "3.12.4"
  }
 },
 "nbformat": 4,
 "nbformat_minor": 5
}
