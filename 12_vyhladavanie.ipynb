{
 "cells": [
  {
   "cell_type": "markdown",
   "id": "57afaaf9-91cb-4271-ae01-d7f01e0766eb",
   "metadata": {},
   "source": [
    "## Vyhľadávanie"
   ]
  },
  {
   "cell_type": "code",
   "execution_count": 3,
   "id": "d6f300aa-975e-4ede-97c4-7b17585c6c4c",
   "metadata": {},
   "outputs": [],
   "source": [
    "import pandas as pd"
   ]
  },
  {
   "cell_type": "code",
   "execution_count": 5,
   "id": "e81495e0-606c-41b1-bde2-d88003cdf065",
   "metadata": {},
   "outputs": [
    {
     "data": {
      "text/plain": [
       "True"
      ]
     },
     "execution_count": 5,
     "metadata": {},
     "output_type": "execute_result"
    }
   ],
   "source": [
    "\"zavod\" in \"zavodi\""
   ]
  },
  {
   "cell_type": "code",
   "execution_count": 7,
   "id": "e3f808f4-795a-4363-9c14-320d99646075",
   "metadata": {},
   "outputs": [
    {
     "data": {
      "text/plain": [
       "True"
      ]
     },
     "execution_count": 7,
     "metadata": {},
     "output_type": "execute_result"
    }
   ],
   "source": [
    "\"Harry\" in \"Harry Potter\""
   ]
  },
  {
   "cell_type": "code",
   "execution_count": 9,
   "id": "585083f6-4291-441e-a495-ace83a605a5e",
   "metadata": {},
   "outputs": [
    {
     "data": {
      "text/plain": [
       "False"
      ]
     },
     "execution_count": 9,
     "metadata": {},
     "output_type": "execute_result"
    }
   ],
   "source": [
    "\"harry\" in \"Harry Potter\""
   ]
  },
  {
   "cell_type": "markdown",
   "id": "b2bae4f7-4011-4abd-b1d4-7140805e2283",
   "metadata": {},
   "source": [
    "Výsledok je v tomto prípade False, pretože vyhľadávanie je citlivé na veľké a malé písmená."
   ]
  },
  {
   "cell_type": "code",
   "execution_count": 12,
   "id": "1d109838-826e-41f4-a323-4e0dc0192d9d",
   "metadata": {},
   "outputs": [
    {
     "data": {
      "text/plain": [
       "True"
      ]
     },
     "execution_count": 12,
     "metadata": {},
     "output_type": "execute_result"
    }
   ],
   "source": [
    "text = \"Harry Potter\"\n",
    "searched_text = \"Harry\"\n",
    "searched_text in text"
   ]
  },
  {
   "cell_type": "markdown",
   "id": "d3efb4b8-2c1f-4a68-89b0-8a271c4ce94d",
   "metadata": {},
   "source": [
    "Pri vyhľadávaní je možné použiť premenné."
   ]
  },
  {
   "cell_type": "code",
   "execution_count": 15,
   "id": "490a0c09-8d48-41a6-be38-4e5e7851df97",
   "metadata": {},
   "outputs": [
    {
     "data": {
      "text/plain": [
       "True"
      ]
     },
     "execution_count": 15,
     "metadata": {},
     "output_type": "execute_result"
    }
   ],
   "source": [
    "searched_text.lower() in text.lower()"
   ]
  },
  {
   "cell_type": "markdown",
   "id": "46a36493-bd04-4f99-b25c-64b74c695680",
   "metadata": {},
   "source": [
    "Aby sme sa vyhli chybe pri tom, či je tam veľké alebo malé písmeno a kvôli tomu to nenájde, tak vyhľadávaný text, aj text, v ktorom hľadáme prevedieme na malé písmená - .lower()"
   ]
  },
  {
   "cell_type": "code",
   "execution_count": 18,
   "id": "150ce75e-4199-424b-b49e-0264ecaa6204",
   "metadata": {},
   "outputs": [],
   "source": [
    "import pandas as pd"
   ]
  },
  {
   "cell_type": "code",
   "execution_count": 20,
   "id": "47cfc26b-10e6-44a4-98f9-aedd36f3567c",
   "metadata": {},
   "outputs": [
    {
     "data": {
      "text/html": [
       "<div>\n",
       "<style scoped>\n",
       "    .dataframe tbody tr th:only-of-type {\n",
       "        vertical-align: middle;\n",
       "    }\n",
       "\n",
       "    .dataframe tbody tr th {\n",
       "        vertical-align: top;\n",
       "    }\n",
       "\n",
       "    .dataframe thead th {\n",
       "        text-align: right;\n",
       "    }\n",
       "</style>\n",
       "<table border=\"1\" class=\"dataframe\">\n",
       "  <thead>\n",
       "    <tr style=\"text-align: right;\">\n",
       "      <th></th>\n",
       "      <th>first_name</th>\n",
       "      <th>last_name</th>\n",
       "      <th>email</th>\n",
       "      <th>bank_account</th>\n",
       "      <th>born_year</th>\n",
       "      <th>city</th>\n",
       "    </tr>\n",
       "  </thead>\n",
       "  <tbody>\n",
       "    <tr>\n",
       "      <th>0</th>\n",
       "      <td>Shawn</td>\n",
       "      <td>Gotts</td>\n",
       "      <td>sgotts0@newsvine.com</td>\n",
       "      <td>58.0</td>\n",
       "      <td>NaN</td>\n",
       "      <td>Jinchuan</td>\n",
       "    </tr>\n",
       "    <tr>\n",
       "      <th>1</th>\n",
       "      <td>Sergeant</td>\n",
       "      <td>Linsey</td>\n",
       "      <td>slinsey1@qq.com</td>\n",
       "      <td>70.0</td>\n",
       "      <td>2007.0</td>\n",
       "      <td>Tāngāil</td>\n",
       "    </tr>\n",
       "    <tr>\n",
       "      <th>2</th>\n",
       "      <td>Ambrosio</td>\n",
       "      <td>Gorton</td>\n",
       "      <td>agorton2@google.es</td>\n",
       "      <td>48.0</td>\n",
       "      <td>2000.0</td>\n",
       "      <td>Zhushan Chengguanzhen</td>\n",
       "    </tr>\n",
       "    <tr>\n",
       "      <th>3</th>\n",
       "      <td>Gram</td>\n",
       "      <td>Steanyng</td>\n",
       "      <td>gsteanyng3@google.fr</td>\n",
       "      <td>92.0</td>\n",
       "      <td>1970.0</td>\n",
       "      <td>Hongxing</td>\n",
       "    </tr>\n",
       "    <tr>\n",
       "      <th>4</th>\n",
       "      <td>Britt</td>\n",
       "      <td>Cockaday</td>\n",
       "      <td>bcockaday4@t.co</td>\n",
       "      <td>78.0</td>\n",
       "      <td>1985.0</td>\n",
       "      <td>Nangabulik</td>\n",
       "    </tr>\n",
       "    <tr>\n",
       "      <th>...</th>\n",
       "      <td>...</td>\n",
       "      <td>...</td>\n",
       "      <td>...</td>\n",
       "      <td>...</td>\n",
       "      <td>...</td>\n",
       "      <td>...</td>\n",
       "    </tr>\n",
       "    <tr>\n",
       "      <th>195</th>\n",
       "      <td>Franz</td>\n",
       "      <td>Oppy</td>\n",
       "      <td>foppy5f@shutterfly.com</td>\n",
       "      <td>90.0</td>\n",
       "      <td>2020.0</td>\n",
       "      <td>Bílina Kyselka</td>\n",
       "    </tr>\n",
       "    <tr>\n",
       "      <th>196</th>\n",
       "      <td>Adolphus</td>\n",
       "      <td>Labbati</td>\n",
       "      <td>alabbati5g@yellowbook.com</td>\n",
       "      <td>56.0</td>\n",
       "      <td>1984.0</td>\n",
       "      <td>Berlin</td>\n",
       "    </tr>\n",
       "    <tr>\n",
       "      <th>197</th>\n",
       "      <td>Aurelea</td>\n",
       "      <td>Cordery</td>\n",
       "      <td>acordery5h@furl.net</td>\n",
       "      <td>NaN</td>\n",
       "      <td>1992.0</td>\n",
       "      <td>Veshnyaki</td>\n",
       "    </tr>\n",
       "    <tr>\n",
       "      <th>198</th>\n",
       "      <td>Armstrong</td>\n",
       "      <td>Laughren</td>\n",
       "      <td>alaughren5i@yahoo.co.jp</td>\n",
       "      <td>87.0</td>\n",
       "      <td>1983.0</td>\n",
       "      <td>Detik Satu</td>\n",
       "    </tr>\n",
       "    <tr>\n",
       "      <th>199</th>\n",
       "      <td>Henrietta</td>\n",
       "      <td>Peckitt</td>\n",
       "      <td>hpeckitt5j@multiply.com</td>\n",
       "      <td>NaN</td>\n",
       "      <td>1967.0</td>\n",
       "      <td>Phú Lộc</td>\n",
       "    </tr>\n",
       "  </tbody>\n",
       "</table>\n",
       "<p>200 rows × 6 columns</p>\n",
       "</div>"
      ],
      "text/plain": [
       "    first_name last_name                      email  bank_account  born_year  \\\n",
       "0        Shawn     Gotts       sgotts0@newsvine.com          58.0        NaN   \n",
       "1     Sergeant    Linsey            slinsey1@qq.com          70.0     2007.0   \n",
       "2     Ambrosio    Gorton         agorton2@google.es          48.0     2000.0   \n",
       "3         Gram  Steanyng       gsteanyng3@google.fr          92.0     1970.0   \n",
       "4        Britt  Cockaday            bcockaday4@t.co          78.0     1985.0   \n",
       "..         ...       ...                        ...           ...        ...   \n",
       "195      Franz      Oppy     foppy5f@shutterfly.com          90.0     2020.0   \n",
       "196   Adolphus   Labbati  alabbati5g@yellowbook.com          56.0     1984.0   \n",
       "197    Aurelea   Cordery        acordery5h@furl.net           NaN     1992.0   \n",
       "198  Armstrong  Laughren    alaughren5i@yahoo.co.jp          87.0     1983.0   \n",
       "199  Henrietta   Peckitt    hpeckitt5j@multiply.com           NaN     1967.0   \n",
       "\n",
       "                      city  \n",
       "0                 Jinchuan  \n",
       "1                  Tāngāil  \n",
       "2    Zhushan Chengguanzhen  \n",
       "3                 Hongxing  \n",
       "4               Nangabulik  \n",
       "..                     ...  \n",
       "195         Bílina Kyselka  \n",
       "196                 Berlin  \n",
       "197              Veshnyaki  \n",
       "198             Detik Satu  \n",
       "199                Phú Lộc  \n",
       "\n",
       "[200 rows x 6 columns]"
      ]
     },
     "execution_count": 20,
     "metadata": {},
     "output_type": "execute_result"
    }
   ],
   "source": [
    "bank_users = pd.read_csv(\"bank_users.csv\")\n",
    "bank_users"
   ]
  },
  {
   "cell_type": "code",
   "execution_count": 22,
   "id": "a475ce86-b811-47c3-8c58-982d4387503a",
   "metadata": {},
   "outputs": [
    {
     "data": {
      "text/plain": [
       "RangeIndex(start=0, stop=200, step=1)"
      ]
     },
     "execution_count": 22,
     "metadata": {},
     "output_type": "execute_result"
    }
   ],
   "source": [
    "bank_users.index"
   ]
  },
  {
   "cell_type": "code",
   "execution_count": 24,
   "id": "ab61e0b4-6e8b-4e8c-8c89-b50245d113e3",
   "metadata": {},
   "outputs": [
    {
     "data": {
      "text/plain": [
       "array([['Shawn', 'Gotts', 'sgotts0@newsvine.com', 58.0, nan, 'Jinchuan'],\n",
       "       ['Sergeant', 'Linsey', 'slinsey1@qq.com', 70.0, 2007.0, 'Tāngāil'],\n",
       "       ['Ambrosio', 'Gorton', 'agorton2@google.es', 48.0, 2000.0,\n",
       "        'Zhushan Chengguanzhen'],\n",
       "       ...,\n",
       "       ['Aurelea', 'Cordery', 'acordery5h@furl.net', nan, 1992.0,\n",
       "        'Veshnyaki'],\n",
       "       ['Armstrong', 'Laughren', 'alaughren5i@yahoo.co.jp', 87.0, 1983.0,\n",
       "        'Detik Satu'],\n",
       "       ['Henrietta', 'Peckitt', 'hpeckitt5j@multiply.com', nan, 1967.0,\n",
       "        'Phú Lộc']], dtype=object)"
      ]
     },
     "execution_count": 24,
     "metadata": {},
     "output_type": "execute_result"
    }
   ],
   "source": [
    "bank_users.values"
   ]
  },
  {
   "cell_type": "code",
   "execution_count": 26,
   "id": "1e367be4-af03-4235-8dcc-256e19481aa0",
   "metadata": {},
   "outputs": [
    {
     "data": {
      "text/plain": [
       "True"
      ]
     },
     "execution_count": 26,
     "metadata": {},
     "output_type": "execute_result"
    }
   ],
   "source": [
    "\"Gorton\" in bank_users.values\n",
    "# vyhľadá výraz \"Gorton\" v hodnotách dataframu (.values)"
   ]
  },
  {
   "cell_type": "code",
   "execution_count": 28,
   "id": "eceb2636-d031-4c07-b160-01f0fc8d2260",
   "metadata": {},
   "outputs": [
    {
     "data": {
      "text/plain": [
       "False"
      ]
     },
     "execution_count": 28,
     "metadata": {},
     "output_type": "execute_result"
    }
   ],
   "source": [
    "0 in bank_users.values\n",
    "# pokúša sa nájsť 0 v hodnotách"
   ]
  },
  {
   "cell_type": "code",
   "execution_count": 30,
   "id": "8703c300-b198-49b9-afc0-1e01b00060d3",
   "metadata": {},
   "outputs": [
    {
     "data": {
      "text/plain": [
       "True"
      ]
     },
     "execution_count": 30,
     "metadata": {},
     "output_type": "execute_result"
    }
   ],
   "source": [
    "0 in bank_users.index\n",
    "# vyhľadá index 0"
   ]
  }
 ],
 "metadata": {
  "kernelspec": {
   "display_name": "Python 3 (ipykernel)",
   "language": "python",
   "name": "python3"
  },
  "language_info": {
   "codemirror_mode": {
    "name": "ipython",
    "version": 3
   },
   "file_extension": ".py",
   "mimetype": "text/x-python",
   "name": "python",
   "nbconvert_exporter": "python",
   "pygments_lexer": "ipython3",
   "version": "3.12.4"
  }
 },
 "nbformat": 4,
 "nbformat_minor": 5
}
