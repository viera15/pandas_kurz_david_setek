{
 "cells": [
  {
   "cell_type": "code",
   "execution_count": 1,
   "id": "0a1a6c2b-36e0-4c23-8e58-95cc56733816",
   "metadata": {},
   "outputs": [],
   "source": [
    "import pandas as pd"
   ]
  },
  {
   "cell_type": "markdown",
   "id": "2a4a6484-5182-4a70-be9b-ccd1e665719c",
   "metadata": {},
   "source": [
    "## Series metódy"
   ]
  },
  {
   "cell_type": "markdown",
   "id": "948bca01-906e-4fae-83ac-806df3c8ba39",
   "metadata": {},
   "source": [
    "### Metódy pre čísla"
   ]
  },
  {
   "cell_type": "code",
   "execution_count": 4,
   "id": "2f029515-7ae0-4bc8-96fa-e8debd68aa8f",
   "metadata": {},
   "outputs": [],
   "source": [
    "prices = [1,2,3]"
   ]
  },
  {
   "cell_type": "code",
   "execution_count": 6,
   "id": "10a03e28-4d8f-4b8b-924b-6d24a964d520",
   "metadata": {},
   "outputs": [
    {
     "data": {
      "text/plain": [
       "0    1\n",
       "1    2\n",
       "2    3\n",
       "dtype: int64"
      ]
     },
     "execution_count": 6,
     "metadata": {},
     "output_type": "execute_result"
    }
   ],
   "source": [
    "prices_series = pd.Series(prices)\n",
    "prices_series"
   ]
  },
  {
   "cell_type": "code",
   "execution_count": 8,
   "id": "499634cb-dd56-473d-99af-623355cfbb80",
   "metadata": {},
   "outputs": [
    {
     "data": {
      "text/plain": [
       "6"
      ]
     },
     "execution_count": 8,
     "metadata": {},
     "output_type": "execute_result"
    }
   ],
   "source": [
    "prices_series.sum()\n",
    "# metóda Series - SUM - súčet"
   ]
  },
  {
   "cell_type": "code",
   "execution_count": 10,
   "id": "ef6eaf7c-4599-4af0-a0d6-18aaabdb7183",
   "metadata": {},
   "outputs": [
    {
     "data": {
      "text/plain": [
       "2.0"
      ]
     },
     "execution_count": 10,
     "metadata": {},
     "output_type": "execute_result"
    }
   ],
   "source": [
    "prices_series.mean()\n",
    "# metóda Series - MEAN - priemer"
   ]
  },
  {
   "cell_type": "code",
   "execution_count": 12,
   "id": "ee29751f-508f-4f5c-ac3e-ba0a0143936b",
   "metadata": {},
   "outputs": [
    {
     "data": {
      "text/plain": [
       "6"
      ]
     },
     "execution_count": 12,
     "metadata": {},
     "output_type": "execute_result"
    }
   ],
   "source": [
    "prices_series.product()\n",
    "# metóda Series - PRODUCT - násobenie všetkých prvkov medzi sebou (1 * 2 * 3)"
   ]
  },
  {
   "cell_type": "markdown",
   "id": "373560c1-2883-4a44-b326-65ee7c1ad915",
   "metadata": {},
   "source": [
    "### Metódy pre texty"
   ]
  },
  {
   "cell_type": "code",
   "execution_count": 16,
   "id": "984fd97a-6c4d-47f9-ac79-6ee8db08e645",
   "metadata": {},
   "outputs": [],
   "source": [
    "instrument_list = [\"Klavír\", \"Gitara\", \"Bicie\", \"Trúbka\", \"Flauta\"]"
   ]
  },
  {
   "cell_type": "code",
   "execution_count": 22,
   "id": "6e453b8b-961c-4e0a-82ea-8c76ddddf6bc",
   "metadata": {},
   "outputs": [
    {
     "data": {
      "text/plain": [
       "0    Klavír\n",
       "1    Gitara\n",
       "2     Bicie\n",
       "3    Trúbka\n",
       "4    Flauta\n",
       "dtype: object"
      ]
     },
     "execution_count": 22,
     "metadata": {},
     "output_type": "execute_result"
    }
   ],
   "source": [
    "instrument_list_series = pd.Series(instrument_list)\n",
    "instrument_list_series"
   ]
  },
  {
   "cell_type": "code",
   "execution_count": 28,
   "id": "ef21d046-724e-4021-a68e-895c98c04af3",
   "metadata": {},
   "outputs": [
    {
     "data": {
      "text/plain": [
       "0    klavír\n",
       "1    gitara\n",
       "2     bicie\n",
       "3    trúbka\n",
       "4    flauta\n",
       "dtype: object"
      ]
     },
     "execution_count": 28,
     "metadata": {},
     "output_type": "execute_result"
    }
   ],
   "source": [
    "instrument_list_series.str.lower()\n",
    "# zmení na malé; pri práci s reťazcami musíme použiť acsesor STR "
   ]
  },
  {
   "cell_type": "code",
   "execution_count": 30,
   "id": "71bef79d-3edb-4427-a81f-28fb5f223716",
   "metadata": {},
   "outputs": [
    {
     "data": {
      "text/plain": [
       "0    KLAVÍR\n",
       "1    GITARA\n",
       "2     BICIE\n",
       "3    TRÚBKA\n",
       "4    FLAUTA\n",
       "dtype: object"
      ]
     },
     "execution_count": 30,
     "metadata": {},
     "output_type": "execute_result"
    }
   ],
   "source": [
    "instrument_list_series.str.upper()\n",
    "# zmení všetko na veľké písmená"
   ]
  },
  {
   "cell_type": "code",
   "execution_count": 32,
   "id": "c92e5eaa-9ed9-4996-88f2-fd25354a1c70",
   "metadata": {},
   "outputs": [
    {
     "data": {
      "text/plain": [
       "0     True\n",
       "1     True\n",
       "2    False\n",
       "3     True\n",
       "4     True\n",
       "dtype: bool"
      ]
     },
     "execution_count": 32,
     "metadata": {},
     "output_type": "execute_result"
    }
   ],
   "source": [
    "instrument_list_series.str.contains(\"a\")\n",
    "# či obsahuje znak alebo reťazec znakov"
   ]
  },
  {
   "cell_type": "code",
   "execution_count": 34,
   "id": "d27a3939-28c5-4597-b7b7-856023feb37f",
   "metadata": {},
   "outputs": [
    {
     "data": {
      "text/plain": [
       "0    1\n",
       "1    2\n",
       "2    0\n",
       "3    1\n",
       "4    2\n",
       "dtype: int64"
      ]
     },
     "execution_count": 34,
     "metadata": {},
     "output_type": "execute_result"
    }
   ],
   "source": [
    "instrument_list_series.str.count(\"a\")\n",
    "# aký počet konkrétneho znaku/znakov obsahuje"
   ]
  },
  {
   "cell_type": "code",
   "execution_count": 36,
   "id": "f8ad9a64-9784-40e6-953b-4d7b475773e8",
   "metadata": {},
   "outputs": [
    {
     "data": {
      "text/plain": [
       "'KlavírGitaraBicieTrúbkaFlauta'"
      ]
     },
     "execution_count": 36,
     "metadata": {},
     "output_type": "execute_result"
    }
   ],
   "source": [
    "instrument_list_series.str.cat()\n",
    "# spojí všetky reťazce dohromady"
   ]
  },
  {
   "cell_type": "code",
   "execution_count": null,
   "id": "1e0a83b2-655c-4655-9ec1-cd471afc7079",
   "metadata": {},
   "outputs": [],
   "source": []
  }
 ],
 "metadata": {
  "kernelspec": {
   "display_name": "Python 3 (ipykernel)",
   "language": "python",
   "name": "python3"
  },
  "language_info": {
   "codemirror_mode": {
    "name": "ipython",
    "version": 3
   },
   "file_extension": ".py",
   "mimetype": "text/x-python",
   "name": "python",
   "nbconvert_exporter": "python",
   "pygments_lexer": "ipython3",
   "version": "3.12.4"
  }
 },
 "nbformat": 4,
 "nbformat_minor": 5
}
