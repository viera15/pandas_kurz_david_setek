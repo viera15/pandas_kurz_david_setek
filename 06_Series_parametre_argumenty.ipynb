{
 "cells": [
  {
   "cell_type": "code",
   "execution_count": 1,
   "id": "00440bcd-4dc8-4858-95d0-0f4c53d110b1",
   "metadata": {},
   "outputs": [],
   "source": [
    "import pandas as pd"
   ]
  },
  {
   "cell_type": "code",
   "execution_count": 3,
   "id": "ae6e36c9-69ff-47c5-8c89-38d4dade1697",
   "metadata": {},
   "outputs": [],
   "source": [
    "days = [\"po\", \"ut\", \"st\", \"št\", \"pi\", \"so\", \"ne\"]\n",
    "tasks = [\"umyť okná\", \"vyniesť kôš\", \"pozrieť inzeráty\",\"python\", \"pandas\", \"vytriediť skriňu\", \"umyť si vlasy\"]"
   ]
  },
  {
   "cell_type": "code",
   "execution_count": 5,
   "id": "847c28d0-7c73-4fd0-9f04-376d626dd9fa",
   "metadata": {},
   "outputs": [
    {
     "data": {
      "text/plain": [
       "umyť okná           po\n",
       "vyniesť kôš         ut\n",
       "pozrieť inzeráty    st\n",
       "python              št\n",
       "pandas              pi\n",
       "vytriediť skriňu    so\n",
       "umyť si vlasy       ne\n",
       "dtype: object"
      ]
     },
     "execution_count": 5,
     "metadata": {},
     "output_type": "execute_result"
    }
   ],
   "source": [
    "pd.Series(days, tasks)\n",
    "# priradí list days ako data a list tasks ako index"
   ]
  },
  {
   "cell_type": "code",
   "execution_count": 7,
   "id": "272071e6-1652-4f2d-a3ec-1a834c0316e5",
   "metadata": {},
   "outputs": [
    {
     "data": {
      "text/plain": [
       "po           umyť okná\n",
       "ut         vyniesť kôš\n",
       "st    pozrieť inzeráty\n",
       "št              python\n",
       "pi              pandas\n",
       "so    vytriediť skriňu\n",
       "ne       umyť si vlasy\n",
       "dtype: object"
      ]
     },
     "execution_count": 7,
     "metadata": {},
     "output_type": "execute_result"
    }
   ],
   "source": [
    "pd.Series(tasks, days)\n",
    "# priradí list tasks ako data a list days ako index"
   ]
  },
  {
   "cell_type": "markdown",
   "id": "0b38566c-195b-4cbd-9edb-3b377938e6e2",
   "metadata": {},
   "source": [
    "pd.Series(\n",
    "    data= tasks,\n",
    "    index= days,\n",
    "    dtype:\n",
    "    name=\n",
    "    copy:\n",
    "    fastpatch:\n",
    ")\n",
    "napr. data=, index= sú parametre a task, days sú argumenty. \n",
    "pd.Series(data=task, index=days) - je čistejší zápis, ktorý umožňuje vymeniť poradie."
   ]
  }
 ],
 "metadata": {
  "kernelspec": {
   "display_name": "Python 3 (ipykernel)",
   "language": "python",
   "name": "python3"
  },
  "language_info": {
   "codemirror_mode": {
    "name": "ipython",
    "version": 3
   },
   "file_extension": ".py",
   "mimetype": "text/x-python",
   "name": "python",
   "nbconvert_exporter": "python",
   "pygments_lexer": "ipython3",
   "version": "3.12.4"
  }
 },
 "nbformat": 4,
 "nbformat_minor": 5
}
