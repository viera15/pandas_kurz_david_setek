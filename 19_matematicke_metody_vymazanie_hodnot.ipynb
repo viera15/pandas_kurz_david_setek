{
 "cells": [
  {
   "cell_type": "markdown",
   "id": "255fa0f5-c5d0-4065-883a-f6aee4c1c68e",
   "metadata": {},
   "source": [
    "## Matematické metódy a vymazanie chýbajúcich hodnôt"
   ]
  },
  {
   "cell_type": "code",
   "execution_count": 1,
   "id": "cb04d800-1198-4e56-9272-e165961d0c71",
   "metadata": {},
   "outputs": [],
   "source": [
    "import pandas as pd"
   ]
  },
  {
   "cell_type": "code",
   "execution_count": 2,
   "id": "f23afa9a-8312-4fc2-a987-15712ee34555",
   "metadata": {},
   "outputs": [
    {
     "data": {
      "text/plain": [
       "0      58.0\n",
       "1      70.0\n",
       "2      48.0\n",
       "3      92.0\n",
       "4      78.0\n",
       "       ... \n",
       "195    90.0\n",
       "196    56.0\n",
       "197     NaN\n",
       "198    87.0\n",
       "199     NaN\n",
       "Name: bank_account, Length: 200, dtype: float64"
      ]
     },
     "execution_count": 2,
     "metadata": {},
     "output_type": "execute_result"
    }
   ],
   "source": [
    "bank_users_account = pd.read_csv(\"bank_users.csv\")[\"bank_account\"]\n",
    "bank_users_account\n",
    "# urobí priamo Series"
   ]
  },
  {
   "cell_type": "code",
   "execution_count": 4,
   "id": "776380ff-26fb-45a6-945f-0d9c9ef06855",
   "metadata": {},
   "outputs": [
    {
     "data": {
      "text/plain": [
       "10088.0"
      ]
     },
     "execution_count": 4,
     "metadata": {},
     "output_type": "execute_result"
    }
   ],
   "source": [
    "bank_users_account.sum()\n",
    "# spočíta hodnoty v Series; neovplyvnia to hodnoty \"NaN\""
   ]
  },
  {
   "cell_type": "code",
   "execution_count": 3,
   "id": "ccf0880f-2db1-469b-ab25-78afe2b31e92",
   "metadata": {},
   "outputs": [
    {
     "data": {
      "text/plain": [
       "0      58.0\n",
       "1      70.0\n",
       "2      48.0\n",
       "3      92.0\n",
       "4      78.0\n",
       "       ... \n",
       "193    56.0\n",
       "194    29.0\n",
       "195    90.0\n",
       "196    56.0\n",
       "198    87.0\n",
       "Name: bank_account, Length: 179, dtype: float64"
      ]
     },
     "execution_count": 3,
     "metadata": {},
     "output_type": "execute_result"
    }
   ],
   "source": [
    "bank_users_account.dropna()\n",
    "# vyhodí všetky hodnoty \"NaN\"; \"NaN\" znamená, že chýba hodnota"
   ]
  },
  {
   "cell_type": "code",
   "execution_count": 5,
   "id": "4baffba0-cf5d-4f24-b544-ff6c8e309d05",
   "metadata": {},
   "outputs": [
    {
     "data": {
      "text/plain": [
       "10088.0"
      ]
     },
     "execution_count": 5,
     "metadata": {},
     "output_type": "execute_result"
    }
   ],
   "source": [
    "bank_users_account.sum()"
   ]
  },
  {
   "cell_type": "code",
   "execution_count": 6,
   "id": "c7bab1f6-f50b-41aa-b8db-9fa04b46e7b3",
   "metadata": {},
   "outputs": [
    {
     "data": {
      "text/plain": [
       "179"
      ]
     },
     "execution_count": 6,
     "metadata": {},
     "output_type": "execute_result"
    }
   ],
   "source": [
    "bank_users_account.count()\n",
    "# spočíta prvky v Series"
   ]
  },
  {
   "cell_type": "code",
   "execution_count": 7,
   "id": "7f2777cc-4c16-4b22-91b5-c8a2ce932b32",
   "metadata": {},
   "outputs": [
    {
     "data": {
      "text/plain": [
       "4.880285561347911e+302"
      ]
     },
     "execution_count": 7,
     "metadata": {},
     "output_type": "execute_result"
    }
   ],
   "source": [
    "bank_users_account.product()\n",
    "# vynásobí všetky čísla medzi sebou"
   ]
  },
  {
   "cell_type": "code",
   "execution_count": 9,
   "id": "425f6ff8-c03b-412c-ad62-8bb588141a41",
   "metadata": {},
   "outputs": [
    {
     "data": {
      "text/plain": [
       "6000"
      ]
     },
     "execution_count": 9,
     "metadata": {},
     "output_type": "execute_result"
    }
   ],
   "source": [
    "pd.Series([10,20,30]).product()\n",
    "# vynásobí hodnoty 10,20,30"
   ]
  },
  {
   "cell_type": "code",
   "execution_count": 10,
   "id": "1f565808-d5fa-4597-b189-93ddfed6f3fe",
   "metadata": {},
   "outputs": [
    {
     "data": {
      "text/plain": [
       "56.357541899441344"
      ]
     },
     "execution_count": 10,
     "metadata": {},
     "output_type": "execute_result"
    }
   ],
   "source": [
    "bank_users_account.mean()\n",
    "# priemer hodnôt"
   ]
  },
  {
   "cell_type": "code",
   "execution_count": 11,
   "id": "841e5741-e2d9-47c4-a8d6-cdc57391b5d5",
   "metadata": {},
   "outputs": [
    {
     "data": {
      "text/plain": [
       "100.0"
      ]
     },
     "execution_count": 11,
     "metadata": {},
     "output_type": "execute_result"
    }
   ],
   "source": [
    "bank_users_account.max()\n",
    "# maximum z hodnôt"
   ]
  },
  {
   "cell_type": "code",
   "execution_count": 12,
   "id": "80ee1f7b-6f84-42b7-ba72-f56994b9545a",
   "metadata": {},
   "outputs": [
    {
     "data": {
      "text/plain": [
       "10.0"
      ]
     },
     "execution_count": 12,
     "metadata": {},
     "output_type": "execute_result"
    }
   ],
   "source": [
    "bank_users_account.min()\n",
    "# minimum z hodnôt"
   ]
  },
  {
   "cell_type": "code",
   "execution_count": 13,
   "id": "aa8939e9-a7bb-494d-873c-23362a13aded",
   "metadata": {},
   "outputs": [
    {
     "data": {
      "text/plain": [
       "56.0"
      ]
     },
     "execution_count": 13,
     "metadata": {},
     "output_type": "execute_result"
    }
   ],
   "source": [
    "bank_users_account.median()\n",
    "# stredná hodnota; ak máme nepárny počet čísiel, tak vyberie hodnotu presne v strede; ak párny počet čísiel, tak z dvoch stredných hodnôt urobí priemer"
   ]
  },
  {
   "cell_type": "code",
   "execution_count": 16,
   "id": "a68a8cf7-546d-4429-8915-635c50bb67ed",
   "metadata": {},
   "outputs": [
    {
     "data": {
      "text/plain": [
       "0    58.0\n",
       "1    72.0\n",
       "Name: bank_account, dtype: float64"
      ]
     },
     "execution_count": 16,
     "metadata": {},
     "output_type": "execute_result"
    }
   ],
   "source": [
    "bank_users_account.mode()\n",
    "# vráti najčastejšie sa opakujúce hodnoty a majú rovnaký počet opakovaní"
   ]
  },
  {
   "cell_type": "code",
   "execution_count": 15,
   "id": "da79c402-8263-44bb-82c6-e5a4774ecf5e",
   "metadata": {},
   "outputs": [
    {
     "data": {
      "text/plain": [
       "0    20\n",
       "dtype: int64"
      ]
     },
     "execution_count": 15,
     "metadata": {},
     "output_type": "execute_result"
    }
   ],
   "source": [
    "pd.Series([10,20,20,2030,30]).mode()\n",
    "# z uvedených hodnôt sa najčastejšie opakuje hodnota 20"
   ]
  },
  {
   "cell_type": "code",
   "execution_count": 17,
   "id": "a46433aa-6c19-4b1f-8386-40c823e2fcd1",
   "metadata": {},
   "outputs": [
    {
     "data": {
      "text/plain": [
       "count    179.000000\n",
       "mean      56.357542\n",
       "std       26.028627\n",
       "min       10.000000\n",
       "25%       33.000000\n",
       "50%       56.000000\n",
       "75%       79.000000\n",
       "max      100.000000\n",
       "Name: bank_account, dtype: float64"
      ]
     },
     "execution_count": 17,
     "metadata": {},
     "output_type": "execute_result"
    }
   ],
   "source": [
    "bank_users_account.describe()\n",
    "# zobrazí rôzne operácie, ktoré sa dajú urobiť s daným Series\n",
    "# .std - odchýlka od priemeru\n",
    "# 25%, 50% 75% - kvartily"
   ]
  }
 ],
 "metadata": {
  "kernelspec": {
   "display_name": "Python 3 (ipykernel)",
   "language": "python",
   "name": "python3"
  },
  "language_info": {
   "codemirror_mode": {
    "name": "ipython",
    "version": 3
   },
   "file_extension": ".py",
   "mimetype": "text/x-python",
   "name": "python",
   "nbconvert_exporter": "python",
   "pygments_lexer": "ipython3",
   "version": "3.12.4"
  }
 },
 "nbformat": 4,
 "nbformat_minor": 5
}
