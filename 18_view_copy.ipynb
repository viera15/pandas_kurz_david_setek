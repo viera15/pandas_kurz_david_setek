{
 "cells": [
  {
   "cell_type": "markdown",
   "id": "73ec0559-1cd4-41e1-82ad-7e2bd4c23103",
   "metadata": {},
   "source": [
    "## Rozdiel medzi .view a .copy"
   ]
  },
  {
   "cell_type": "markdown",
   "id": "a681a4e3-1c78-4029-91e6-110f0c636b60",
   "metadata": {},
   "source": [
    ".copy - urobíme si __kópiu__ z dát a zmeny robíme na kópii a pôvodné dáta __zostanú nezmenené__"
   ]
  },
  {
   "cell_type": "markdown",
   "id": "b36bb7a6-d404-4a1c-9288-b0aa23b84da0",
   "metadata": {},
   "source": [
    ".view - vyberieme si určitú časť dát (focus) a tie dáta __zmeníme__"
   ]
  },
  {
   "cell_type": "code",
   "execution_count": 1,
   "id": "4b0f10cf-5b3f-4af0-a8ab-4dc0b291ff56",
   "metadata": {},
   "outputs": [],
   "source": [
    "import pandas as pd"
   ]
  },
  {
   "cell_type": "code",
   "execution_count": 2,
   "id": "3849d099-20fb-4509-a691-a8d927c4fbb3",
   "metadata": {},
   "outputs": [
    {
     "data": {
      "text/html": [
       "<div>\n",
       "<style scoped>\n",
       "    .dataframe tbody tr th:only-of-type {\n",
       "        vertical-align: middle;\n",
       "    }\n",
       "\n",
       "    .dataframe tbody tr th {\n",
       "        vertical-align: top;\n",
       "    }\n",
       "\n",
       "    .dataframe thead th {\n",
       "        text-align: right;\n",
       "    }\n",
       "</style>\n",
       "<table border=\"1\" class=\"dataframe\">\n",
       "  <thead>\n",
       "    <tr style=\"text-align: right;\">\n",
       "      <th></th>\n",
       "      <th>last_name</th>\n",
       "    </tr>\n",
       "  </thead>\n",
       "  <tbody>\n",
       "    <tr>\n",
       "      <th>0</th>\n",
       "      <td>Gotts</td>\n",
       "    </tr>\n",
       "    <tr>\n",
       "      <th>1</th>\n",
       "      <td>Linsey</td>\n",
       "    </tr>\n",
       "    <tr>\n",
       "      <th>2</th>\n",
       "      <td>Gorton</td>\n",
       "    </tr>\n",
       "    <tr>\n",
       "      <th>3</th>\n",
       "      <td>Steanyng</td>\n",
       "    </tr>\n",
       "    <tr>\n",
       "      <th>4</th>\n",
       "      <td>Cockaday</td>\n",
       "    </tr>\n",
       "    <tr>\n",
       "      <th>...</th>\n",
       "      <td>...</td>\n",
       "    </tr>\n",
       "    <tr>\n",
       "      <th>195</th>\n",
       "      <td>Oppy</td>\n",
       "    </tr>\n",
       "    <tr>\n",
       "      <th>196</th>\n",
       "      <td>Labbati</td>\n",
       "    </tr>\n",
       "    <tr>\n",
       "      <th>197</th>\n",
       "      <td>Cordery</td>\n",
       "    </tr>\n",
       "    <tr>\n",
       "      <th>198</th>\n",
       "      <td>Laughren</td>\n",
       "    </tr>\n",
       "    <tr>\n",
       "      <th>199</th>\n",
       "      <td>Peckitt</td>\n",
       "    </tr>\n",
       "  </tbody>\n",
       "</table>\n",
       "<p>200 rows × 1 columns</p>\n",
       "</div>"
      ],
      "text/plain": [
       "    last_name\n",
       "0       Gotts\n",
       "1      Linsey\n",
       "2      Gorton\n",
       "3    Steanyng\n",
       "4    Cockaday\n",
       "..        ...\n",
       "195      Oppy\n",
       "196   Labbati\n",
       "197   Cordery\n",
       "198  Laughren\n",
       "199   Peckitt\n",
       "\n",
       "[200 rows x 1 columns]"
      ]
     },
     "execution_count": 2,
     "metadata": {},
     "output_type": "execute_result"
    }
   ],
   "source": [
    "bank_users_df = pd.read_csv(\"bank_users.csv\", usecols = [\"last_name\"])\n",
    "bank_users_df\n",
    "# vytiahne stĺpec \"last_name\" ako dataframe"
   ]
  },
  {
   "cell_type": "code",
   "execution_count": 3,
   "id": "40a8e593-4a17-472b-ae35-eb0fe0999f8d",
   "metadata": {},
   "outputs": [
    {
     "data": {
      "text/plain": [
       "0         Gotts\n",
       "1        Linsey\n",
       "2        Gorton\n",
       "3      Steanyng\n",
       "4      Cockaday\n",
       "         ...   \n",
       "195        Oppy\n",
       "196     Labbati\n",
       "197     Cordery\n",
       "198    Laughren\n",
       "199     Peckitt\n",
       "Name: last_name, Length: 200, dtype: object"
      ]
     },
     "execution_count": 3,
     "metadata": {},
     "output_type": "execute_result"
    }
   ],
   "source": [
    "bank_users_sr = bank_users_df.squeeze(\"columns\")\n",
    "bank_users_sr\n",
    "# zmení dataframe s jedným stĺpcom na Series"
   ]
  },
  {
   "cell_type": "code",
   "execution_count": 4,
   "id": "806cbd15-4c7f-4efc-b484-7bd17a5d63c6",
   "metadata": {},
   "outputs": [
    {
     "data": {
      "text/plain": [
       "0      Rajnáková\n",
       "1         Linsey\n",
       "2         Gorton\n",
       "3       Steanyng\n",
       "4       Cockaday\n",
       "         ...    \n",
       "195         Oppy\n",
       "196      Labbati\n",
       "197      Cordery\n",
       "198     Laughren\n",
       "199      Peckitt\n",
       "Name: last_name, Length: 200, dtype: object"
      ]
     },
     "execution_count": 4,
     "metadata": {},
     "output_type": "execute_result"
    }
   ],
   "source": [
    "bank_users_sr[0] = \"Rajnáková\"\n",
    "bank_users_sr"
   ]
  },
  {
   "cell_type": "code",
   "execution_count": 5,
   "id": "3c3747a8-43d6-4845-926f-0f5092b42116",
   "metadata": {},
   "outputs": [
    {
     "data": {
      "text/html": [
       "<div>\n",
       "<style scoped>\n",
       "    .dataframe tbody tr th:only-of-type {\n",
       "        vertical-align: middle;\n",
       "    }\n",
       "\n",
       "    .dataframe tbody tr th {\n",
       "        vertical-align: top;\n",
       "    }\n",
       "\n",
       "    .dataframe thead th {\n",
       "        text-align: right;\n",
       "    }\n",
       "</style>\n",
       "<table border=\"1\" class=\"dataframe\">\n",
       "  <thead>\n",
       "    <tr style=\"text-align: right;\">\n",
       "      <th></th>\n",
       "      <th>last_name</th>\n",
       "    </tr>\n",
       "  </thead>\n",
       "  <tbody>\n",
       "    <tr>\n",
       "      <th>0</th>\n",
       "      <td>Rajnáková</td>\n",
       "    </tr>\n",
       "    <tr>\n",
       "      <th>1</th>\n",
       "      <td>Linsey</td>\n",
       "    </tr>\n",
       "    <tr>\n",
       "      <th>2</th>\n",
       "      <td>Gorton</td>\n",
       "    </tr>\n",
       "    <tr>\n",
       "      <th>3</th>\n",
       "      <td>Steanyng</td>\n",
       "    </tr>\n",
       "    <tr>\n",
       "      <th>4</th>\n",
       "      <td>Cockaday</td>\n",
       "    </tr>\n",
       "    <tr>\n",
       "      <th>...</th>\n",
       "      <td>...</td>\n",
       "    </tr>\n",
       "    <tr>\n",
       "      <th>195</th>\n",
       "      <td>Oppy</td>\n",
       "    </tr>\n",
       "    <tr>\n",
       "      <th>196</th>\n",
       "      <td>Labbati</td>\n",
       "    </tr>\n",
       "    <tr>\n",
       "      <th>197</th>\n",
       "      <td>Cordery</td>\n",
       "    </tr>\n",
       "    <tr>\n",
       "      <th>198</th>\n",
       "      <td>Laughren</td>\n",
       "    </tr>\n",
       "    <tr>\n",
       "      <th>199</th>\n",
       "      <td>Peckitt</td>\n",
       "    </tr>\n",
       "  </tbody>\n",
       "</table>\n",
       "<p>200 rows × 1 columns</p>\n",
       "</div>"
      ],
      "text/plain": [
       "     last_name\n",
       "0    Rajnáková\n",
       "1       Linsey\n",
       "2       Gorton\n",
       "3     Steanyng\n",
       "4     Cockaday\n",
       "..         ...\n",
       "195       Oppy\n",
       "196    Labbati\n",
       "197    Cordery\n",
       "198   Laughren\n",
       "199    Peckitt\n",
       "\n",
       "[200 rows x 1 columns]"
      ]
     },
     "execution_count": 5,
     "metadata": {},
     "output_type": "execute_result"
    }
   ],
   "source": [
    "bank_users_df"
   ]
  },
  {
   "cell_type": "markdown",
   "id": "fc3f466a-1632-48a5-8101-c46c662f58ca",
   "metadata": {},
   "source": [
    "__POZOR!!!__ Toto je .view, to znamená, že ak si z dataframu urobíme Series a tam niečo zmeníme, tak sa to zmení aj v dataframe."
   ]
  },
  {
   "cell_type": "code",
   "execution_count": 6,
   "id": "1496627b-b203-4de5-9df9-6c373d5f339d",
   "metadata": {},
   "outputs": [],
   "source": [
    "import pandas as pd"
   ]
  },
  {
   "cell_type": "code",
   "execution_count": 7,
   "id": "dafaf98c-818f-4c4c-9858-a0fa40162398",
   "metadata": {},
   "outputs": [
    {
     "data": {
      "text/html": [
       "<div>\n",
       "<style scoped>\n",
       "    .dataframe tbody tr th:only-of-type {\n",
       "        vertical-align: middle;\n",
       "    }\n",
       "\n",
       "    .dataframe tbody tr th {\n",
       "        vertical-align: top;\n",
       "    }\n",
       "\n",
       "    .dataframe thead th {\n",
       "        text-align: right;\n",
       "    }\n",
       "</style>\n",
       "<table border=\"1\" class=\"dataframe\">\n",
       "  <thead>\n",
       "    <tr style=\"text-align: right;\">\n",
       "      <th></th>\n",
       "      <th>last_name</th>\n",
       "    </tr>\n",
       "  </thead>\n",
       "  <tbody>\n",
       "    <tr>\n",
       "      <th>0</th>\n",
       "      <td>Gotts</td>\n",
       "    </tr>\n",
       "    <tr>\n",
       "      <th>1</th>\n",
       "      <td>Linsey</td>\n",
       "    </tr>\n",
       "    <tr>\n",
       "      <th>2</th>\n",
       "      <td>Gorton</td>\n",
       "    </tr>\n",
       "    <tr>\n",
       "      <th>3</th>\n",
       "      <td>Steanyng</td>\n",
       "    </tr>\n",
       "    <tr>\n",
       "      <th>4</th>\n",
       "      <td>Cockaday</td>\n",
       "    </tr>\n",
       "    <tr>\n",
       "      <th>...</th>\n",
       "      <td>...</td>\n",
       "    </tr>\n",
       "    <tr>\n",
       "      <th>195</th>\n",
       "      <td>Oppy</td>\n",
       "    </tr>\n",
       "    <tr>\n",
       "      <th>196</th>\n",
       "      <td>Labbati</td>\n",
       "    </tr>\n",
       "    <tr>\n",
       "      <th>197</th>\n",
       "      <td>Cordery</td>\n",
       "    </tr>\n",
       "    <tr>\n",
       "      <th>198</th>\n",
       "      <td>Laughren</td>\n",
       "    </tr>\n",
       "    <tr>\n",
       "      <th>199</th>\n",
       "      <td>Peckitt</td>\n",
       "    </tr>\n",
       "  </tbody>\n",
       "</table>\n",
       "<p>200 rows × 1 columns</p>\n",
       "</div>"
      ],
      "text/plain": [
       "    last_name\n",
       "0       Gotts\n",
       "1      Linsey\n",
       "2      Gorton\n",
       "3    Steanyng\n",
       "4    Cockaday\n",
       "..        ...\n",
       "195      Oppy\n",
       "196   Labbati\n",
       "197   Cordery\n",
       "198  Laughren\n",
       "199   Peckitt\n",
       "\n",
       "[200 rows x 1 columns]"
      ]
     },
     "execution_count": 7,
     "metadata": {},
     "output_type": "execute_result"
    }
   ],
   "source": [
    "bank_users_dataFrame = pd.read_csv(\"bank_users.csv\", usecols= [\"last_name\"])\n",
    "bank_users_dataFrame"
   ]
  },
  {
   "cell_type": "code",
   "execution_count": 8,
   "id": "60c7bcd2-cbdf-4390-994c-c5c4fc73590d",
   "metadata": {},
   "outputs": [
    {
     "data": {
      "text/plain": [
       "0         Gotts\n",
       "1        Linsey\n",
       "2        Gorton\n",
       "3      Steanyng\n",
       "4      Cockaday\n",
       "         ...   \n",
       "195        Oppy\n",
       "196     Labbati\n",
       "197     Cordery\n",
       "198    Laughren\n",
       "199     Peckitt\n",
       "Name: last_name, Length: 200, dtype: object"
      ]
     },
     "execution_count": 8,
     "metadata": {},
     "output_type": "execute_result"
    }
   ],
   "source": [
    "bank_users_series = bank_users_dataFrame.squeeze(\"columns\").copy()\n",
    "bank_users_series\n",
    "# vytvorí nám kópiu stĺpca a dataframe tým nezmeníme"
   ]
  },
  {
   "cell_type": "code",
   "execution_count": 9,
   "id": "31d4c09a-af71-45a6-83b1-9e42a5024678",
   "metadata": {},
   "outputs": [
    {
     "data": {
      "text/plain": [
       "0      Potter\n",
       "1      Linsey\n",
       "2      Gorton\n",
       "3    Steanyng\n",
       "4    Cockaday\n",
       "Name: last_name, dtype: object"
      ]
     },
     "execution_count": 9,
     "metadata": {},
     "output_type": "execute_result"
    }
   ],
   "source": [
    "bank_users_series[0] = \"Potter\"\n",
    "bank_users_series.head()"
   ]
  },
  {
   "cell_type": "code",
   "execution_count": 10,
   "id": "50d5962b-b5bf-4f29-9aae-0d4d044aad00",
   "metadata": {},
   "outputs": [
    {
     "data": {
      "text/html": [
       "<div>\n",
       "<style scoped>\n",
       "    .dataframe tbody tr th:only-of-type {\n",
       "        vertical-align: middle;\n",
       "    }\n",
       "\n",
       "    .dataframe tbody tr th {\n",
       "        vertical-align: top;\n",
       "    }\n",
       "\n",
       "    .dataframe thead th {\n",
       "        text-align: right;\n",
       "    }\n",
       "</style>\n",
       "<table border=\"1\" class=\"dataframe\">\n",
       "  <thead>\n",
       "    <tr style=\"text-align: right;\">\n",
       "      <th></th>\n",
       "      <th>last_name</th>\n",
       "    </tr>\n",
       "  </thead>\n",
       "  <tbody>\n",
       "    <tr>\n",
       "      <th>0</th>\n",
       "      <td>Gotts</td>\n",
       "    </tr>\n",
       "    <tr>\n",
       "      <th>1</th>\n",
       "      <td>Linsey</td>\n",
       "    </tr>\n",
       "    <tr>\n",
       "      <th>2</th>\n",
       "      <td>Gorton</td>\n",
       "    </tr>\n",
       "    <tr>\n",
       "      <th>3</th>\n",
       "      <td>Steanyng</td>\n",
       "    </tr>\n",
       "    <tr>\n",
       "      <th>4</th>\n",
       "      <td>Cockaday</td>\n",
       "    </tr>\n",
       "  </tbody>\n",
       "</table>\n",
       "</div>"
      ],
      "text/plain": [
       "  last_name\n",
       "0     Gotts\n",
       "1    Linsey\n",
       "2    Gorton\n",
       "3  Steanyng\n",
       "4  Cockaday"
      ]
     },
     "execution_count": 10,
     "metadata": {},
     "output_type": "execute_result"
    }
   ],
   "source": [
    "bank_users_dataFrame.head()\n",
    "# dataframe zostal nezmenený lebo sme urobili kópiu a tam sme menili dáta"
   ]
  }
 ],
 "metadata": {
  "kernelspec": {
   "display_name": "Python 3 (ipykernel)",
   "language": "python",
   "name": "python3"
  },
  "language_info": {
   "codemirror_mode": {
    "name": "ipython",
    "version": 3
   },
   "file_extension": ".py",
   "mimetype": "text/x-python",
   "name": "python",
   "nbconvert_exporter": "python",
   "pygments_lexer": "ipython3",
   "version": "3.12.4"
  }
 },
 "nbformat": 4,
 "nbformat_minor": 5
}
