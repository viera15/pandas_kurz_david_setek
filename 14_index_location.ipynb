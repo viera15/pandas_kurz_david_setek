{
 "cells": [
  {
   "cell_type": "markdown",
   "id": "b821f0cd-e11e-48bd-9396-ccd34c18381a",
   "metadata": {},
   "source": [
    "## Index location - .iloc"
   ]
  },
  {
   "cell_type": "code",
   "execution_count": 2,
   "id": "85d64331-7f59-4bd2-b4e5-86fb03bb5203",
   "metadata": {},
   "outputs": [],
   "source": [
    "import pandas as pd"
   ]
  },
  {
   "cell_type": "code",
   "execution_count": 14,
   "id": "1a068fae-02f3-4759-ac77-0ddc50910537",
   "metadata": {},
   "outputs": [],
   "source": [
    "# bank_users = pd.read_csv(\"bank_users.csv\")[\"last_name\"]\n",
    "# bank_users\n",
    "# výsledok je Series"
   ]
  },
  {
   "cell_type": "code",
   "execution_count": 10,
   "id": "92a18699-3e5d-4015-adc3-b87709333ff3",
   "metadata": {},
   "outputs": [
    {
     "data": {
      "text/plain": [
       "0         Gotts\n",
       "1        Linsey\n",
       "2        Gorton\n",
       "3      Steanyng\n",
       "4      Cockaday\n",
       "         ...   \n",
       "195        Oppy\n",
       "196     Labbati\n",
       "197     Cordery\n",
       "198    Laughren\n",
       "199     Peckitt\n",
       "Name: last_name, Length: 200, dtype: object"
      ]
     },
     "execution_count": 10,
     "metadata": {},
     "output_type": "execute_result"
    }
   ],
   "source": [
    "bank_users = pd.read_csv(\"bank_users.csv\",usecols= [\"last_name\"]).squeeze(\"columns\")\n",
    "bank_users\n",
    "# iný zápis ako načítať súbor a zároveň konkrétny stĺpec, bez .squeze je to dataframe, so squeeze je to Series"
   ]
  },
  {
   "cell_type": "code",
   "execution_count": 16,
   "id": "30b9aabf-eb1b-4395-a471-f1166d9e38be",
   "metadata": {},
   "outputs": [
    {
     "data": {
      "text/plain": [
       "'Gotts'"
      ]
     },
     "execution_count": 16,
     "metadata": {},
     "output_type": "execute_result"
    }
   ],
   "source": [
    "bank_users.iloc[0]\n",
    "# vyhľadá hodnotu na pozícii indexu 0"
   ]
  },
  {
   "cell_type": "code",
   "execution_count": 18,
   "id": "a7c3621c-df6e-42f2-8d3d-f48c82c1c115",
   "metadata": {},
   "outputs": [
    {
     "data": {
      "text/plain": [
       "'Rollinshaw'"
      ]
     },
     "execution_count": 18,
     "metadata": {},
     "output_type": "execute_result"
    }
   ],
   "source": [
    "bank_users.iloc[100]"
   ]
  },
  {
   "cell_type": "code",
   "execution_count": 20,
   "id": "ec3ff8d7-3599-422a-8cfa-e576262f5045",
   "metadata": {},
   "outputs": [
    {
     "data": {
      "text/plain": [
       "10      Robley\n",
       "20        Meak\n",
       "30    Cathenod\n",
       "Name: last_name, dtype: object"
      ]
     },
     "execution_count": 20,
     "metadata": {},
     "output_type": "execute_result"
    }
   ],
   "source": [
    "bank_users.iloc[[10, 20, 30]]\n",
    "# vyhľadá hodnoty na pozíciách indexu 10, 20, 30"
   ]
  },
  {
   "cell_type": "code",
   "execution_count": 22,
   "id": "7ae4db9a-018d-4b19-a65e-23e07d7ff4ef",
   "metadata": {},
   "outputs": [],
   "source": [
    "# bank_users.iloc[[10, 20, 300]]\n",
    "# zahlási chybu, že index je mimo rozsah, máme indexy len do 199"
   ]
  },
  {
   "cell_type": "code",
   "execution_count": 30,
   "id": "a5ae766e-2351-4c85-9ec1-2c4222c82ed7",
   "metadata": {},
   "outputs": [
    {
     "data": {
      "text/plain": [
       "10          Robley\n",
       "11          Carbin\n",
       "12         Ashling\n",
       "13             Boc\n",
       "14        Lomansey\n",
       "15        Youngman\n",
       "16    Grichukhanov\n",
       "17        Baldcock\n",
       "18        Lattimer\n",
       "19         Slocumb\n",
       "Name: last_name, dtype: object"
      ]
     },
     "execution_count": 30,
     "metadata": {},
     "output_type": "execute_result"
    }
   ],
   "source": [
    "bank_users.iloc[10:20]\n",
    "# funguje tu rovnaký výber podlľa indexov ako bežnom pythone, od indexu 10 po 19"
   ]
  },
  {
   "cell_type": "code",
   "execution_count": 26,
   "id": "0ed1efda-4153-4cf4-bb21-1f2e5e13616b",
   "metadata": {},
   "outputs": [
    {
     "data": {
      "text/plain": [
       "150        Mollindinia\n",
       "151          Maskelyne\n",
       "152                Doe\n",
       "153            Gwillym\n",
       "154          Strickler\n",
       "155         Sandercock\n",
       "156             Tawton\n",
       "157            Perrone\n",
       "158          Twitching\n",
       "159              Garey\n",
       "160           Grangier\n",
       "161           Sherborn\n",
       "162             Norrie\n",
       "163            Meriott\n",
       "164            Burkman\n",
       "165           Ilymanov\n",
       "166            Maurice\n",
       "167         Auchinleck\n",
       "168          Gainsford\n",
       "169           Costanza\n",
       "170              Baile\n",
       "171            Trebble\n",
       "172             Rolles\n",
       "173           Alyokhin\n",
       "174            Knagges\n",
       "175          Simchenko\n",
       "176           Lorriman\n",
       "177             Wickey\n",
       "178           Glaister\n",
       "179               Brok\n",
       "180            Hurling\n",
       "181              Linck\n",
       "182             Goldby\n",
       "183            Pittman\n",
       "184           Ancliffe\n",
       "185    Falconer-Taylor\n",
       "186             Sproul\n",
       "187            Sircomb\n",
       "188            Yglesia\n",
       "189            Slocumb\n",
       "190         Whitchurch\n",
       "191             Wraith\n",
       "192           Chastand\n",
       "193          Gavrielly\n",
       "194               Stow\n",
       "195               Oppy\n",
       "196            Labbati\n",
       "197            Cordery\n",
       "198           Laughren\n",
       "199            Peckitt\n",
       "Name: last_name, dtype: object"
      ]
     },
     "execution_count": 26,
     "metadata": {},
     "output_type": "execute_result"
    }
   ],
   "source": [
    "bank_users.iloc[150:]\n",
    "# vyhľadá od indexu 150 po koniec"
   ]
  },
  {
   "cell_type": "code",
   "execution_count": 28,
   "id": "f8d09849-c9b0-4b2b-96f3-b0016047e87b",
   "metadata": {},
   "outputs": [
    {
     "data": {
      "text/plain": [
       "0        Gotts\n",
       "1       Linsey\n",
       "2       Gorton\n",
       "3     Steanyng\n",
       "4     Cockaday\n",
       "5     Simonett\n",
       "6      Frankom\n",
       "7      Terbeck\n",
       "8    Blenkhorn\n",
       "9      Gibberd\n",
       "Name: last_name, dtype: object"
      ]
     },
     "execution_count": 28,
     "metadata": {},
     "output_type": "execute_result"
    }
   ],
   "source": [
    "bank_users.iloc[:10]\n",
    "# vyhľadá od začiatku po 9"
   ]
  },
  {
   "cell_type": "code",
   "execution_count": 32,
   "id": "5afa6e50-f698-4a91-ab92-a4a0aecbfa64",
   "metadata": {},
   "outputs": [
    {
     "data": {
      "text/plain": [
       "'Peckitt'"
      ]
     },
     "execution_count": 32,
     "metadata": {},
     "output_type": "execute_result"
    }
   ],
   "source": [
    "bank_users.iloc[-1]\n",
    "# vyhľadá prvú hodnotu odzadu, tj. index 199"
   ]
  },
  {
   "cell_type": "code",
   "execution_count": 34,
   "id": "17768eb4-fc0d-46cf-a94c-73cd6959a412",
   "metadata": {},
   "outputs": [
    {
     "data": {
      "text/plain": [
       "190    Whitchurch\n",
       "191        Wraith\n",
       "192      Chastand\n",
       "193     Gavrielly\n",
       "194          Stow\n",
       "Name: last_name, dtype: object"
      ]
     },
     "execution_count": 34,
     "metadata": {},
     "output_type": "execute_result"
    }
   ],
   "source": [
    "bank_users.iloc[-10:-5]\n",
    "# vyhľadá odzadu v rozsahu indexov od - do"
   ]
  },
  {
   "cell_type": "code",
   "execution_count": 36,
   "id": "43ef8d5b-bc1e-43b3-aa02-18a4d007a55b",
   "metadata": {},
   "outputs": [
    {
     "data": {
      "text/plain": [
       "192     Chastand\n",
       "193    Gavrielly\n",
       "194         Stow\n",
       "195         Oppy\n",
       "196      Labbati\n",
       "197      Cordery\n",
       "198     Laughren\n",
       "199      Peckitt\n",
       "Name: last_name, dtype: object"
      ]
     },
     "execution_count": 36,
     "metadata": {},
     "output_type": "execute_result"
    }
   ],
   "source": [
    "bank_users.iloc[-8:]"
   ]
  }
 ],
 "metadata": {
  "kernelspec": {
   "display_name": "Python 3 (ipykernel)",
   "language": "python",
   "name": "python3"
  },
  "language_info": {
   "codemirror_mode": {
    "name": "ipython",
    "version": 3
   },
   "file_extension": ".py",
   "mimetype": "text/x-python",
   "name": "python",
   "nbconvert_exporter": "python",
   "pygments_lexer": "ipython3",
   "version": "3.12.4"
  }
 },
 "nbformat": 4,
 "nbformat_minor": 5
}
