{
 "cells": [
  {
   "cell_type": "code",
   "execution_count": 1,
   "id": "7707db49-6659-493c-9a0c-fa2d1d4d8953",
   "metadata": {},
   "outputs": [],
   "source": [
    "import pandas as pd"
   ]
  },
  {
   "cell_type": "code",
   "execution_count": 3,
   "id": "2d4a7b73-a482-4195-b6cc-d701fd57262b",
   "metadata": {},
   "outputs": [],
   "source": [
    "fruit_colors = {\n",
    "    \"jablko\": \"červená\",\n",
    "    \"banán\": \"žltá\",\n",
    "    \"kiwi\": \"hnedá\",\n",
    "    \"pomaranč\": \"oranžová\"\n",
    "}\n",
    "# dictionary"
   ]
  },
  {
   "cell_type": "code",
   "execution_count": 5,
   "id": "6aa7e0a9-a535-4505-be25-54949c11e1ae",
   "metadata": {},
   "outputs": [
    {
     "data": {
      "text/plain": [
       "jablko       červená\n",
       "banán           žltá\n",
       "kiwi           hnedá\n",
       "pomaranč    oranžová\n",
       "dtype: object"
      ]
     },
     "execution_count": 5,
     "metadata": {},
     "output_type": "execute_result"
    }
   ],
   "source": [
    "pd.Series(fruit_colors)\n",
    "# prevod dictionary na Series"
   ]
  },
  {
   "cell_type": "code",
   "execution_count": 7,
   "id": "6647df90-d559-4757-8f03-a82433555357",
   "metadata": {},
   "outputs": [],
   "source": [
    "# fruit_colors_s = pd.Series(fruit_colors)\n",
    "# fruit_colors_s"
   ]
  }
 ],
 "metadata": {
  "kernelspec": {
   "display_name": "Python 3 (ipykernel)",
   "language": "python",
   "name": "python3"
  },
  "language_info": {
   "codemirror_mode": {
    "name": "ipython",
    "version": 3
   },
   "file_extension": ".py",
   "mimetype": "text/x-python",
   "name": "python",
   "nbconvert_exporter": "python",
   "pygments_lexer": "ipython3",
   "version": "3.12.4"
  }
 },
 "nbformat": 4,
 "nbformat_minor": 5
}
