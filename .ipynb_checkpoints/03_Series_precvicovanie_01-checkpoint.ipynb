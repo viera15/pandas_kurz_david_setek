{
 "cells": [
  {
   "cell_type": "code",
   "execution_count": 1,
   "id": "81913ed5-6745-4e02-afec-5bfc15e2cf6b",
   "metadata": {},
   "outputs": [],
   "source": [
    "import pandas as pd"
   ]
  },
  {
   "cell_type": "code",
   "execution_count": 3,
   "id": "944541cf-64d2-434e-9881-e2b91c47742b",
   "metadata": {},
   "outputs": [],
   "source": [
    "country_population = {\n",
    "\"Česká republika\": 10.7,\n",
    "\"Slovensko\": 5.4,\n",
    "\"Německo\": 83,\n",
    "\"Polsko\": 38\n",
    "}"
   ]
  },
  {
   "cell_type": "code",
   "execution_count": 5,
   "id": "efc40dfa-4693-471f-8995-e0cf929aa857",
   "metadata": {},
   "outputs": [
    {
     "data": {
      "text/plain": [
       "Česká republika    10.7\n",
       "Slovensko           5.4\n",
       "Německo            83.0\n",
       "Polsko             38.0\n",
       "dtype: float64"
      ]
     },
     "execution_count": 5,
     "metadata": {},
     "output_type": "execute_result"
    }
   ],
   "source": [
    "country_population_s = pd.Series(country_population)\n",
    "country_population_s"
   ]
  },
  {
   "cell_type": "code",
   "execution_count": 7,
   "id": "5f97e73f-8792-4e86-834d-31dfb23fd3ea",
   "metadata": {},
   "outputs": [],
   "source": [
    "technology_list = [\"smartphone\", \"laptop\", \"dron\", \"virtuální realita\", \"3D tiskárna\"]"
   ]
  },
  {
   "cell_type": "code",
   "execution_count": 9,
   "id": "4f9c5a07-a8ab-4b63-b829-b945da165e38",
   "metadata": {},
   "outputs": [
    {
     "data": {
      "text/plain": [
       "0           smartphone\n",
       "1               laptop\n",
       "2                 dron\n",
       "3    virtuální realita\n",
       "4          3D tiskárna\n",
       "dtype: object"
      ]
     },
     "execution_count": 9,
     "metadata": {},
     "output_type": "execute_result"
    }
   ],
   "source": [
    "technology_list_s = pd.Series(technology_list)\n",
    "technology_list_s"
   ]
  },
  {
   "cell_type": "code",
   "execution_count": 11,
   "id": "da2f787f-06a5-42fb-a68c-1833389481a6",
   "metadata": {},
   "outputs": [],
   "source": [
    "instrument_list = [\"klavír\", \"kytara\", \"bicí\", \"trubka\", \"flétna\"]"
   ]
  },
  {
   "cell_type": "code",
   "execution_count": 13,
   "id": "e4007434-32b7-419d-b267-ad66d1a96bb4",
   "metadata": {},
   "outputs": [
    {
     "data": {
      "text/plain": [
       "0    klavír\n",
       "1    kytara\n",
       "2      bicí\n",
       "3    trubka\n",
       "4    flétna\n",
       "dtype: object"
      ]
     },
     "execution_count": 13,
     "metadata": {},
     "output_type": "execute_result"
    }
   ],
   "source": [
    "instrument_list_s = pd.Series(instrument_list)\n",
    "instrument_list_s"
   ]
  },
  {
   "cell_type": "code",
   "execution_count": null,
   "id": "e7ef5258-6b7c-431d-b114-c765721c1f69",
   "metadata": {},
   "outputs": [],
   "source": []
  }
 ],
 "metadata": {
  "kernelspec": {
   "display_name": "Python 3 (ipykernel)",
   "language": "python",
   "name": "python3"
  },
  "language_info": {
   "codemirror_mode": {
    "name": "ipython",
    "version": 3
   },
   "file_extension": ".py",
   "mimetype": "text/x-python",
   "name": "python",
   "nbconvert_exporter": "python",
   "pygments_lexer": "ipython3",
   "version": "3.12.4"
  }
 },
 "nbformat": 4,
 "nbformat_minor": 5
}
