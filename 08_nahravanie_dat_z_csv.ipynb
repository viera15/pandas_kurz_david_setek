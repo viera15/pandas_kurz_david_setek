{
 "cells": [
  {
   "cell_type": "code",
   "execution_count": 1,
   "id": "d63903bf-5a47-4e62-a8ac-70d6bf4923a9",
   "metadata": {},
   "outputs": [],
   "source": [
    "import pandas as pd"
   ]
  },
  {
   "cell_type": "code",
   "execution_count": 3,
   "id": "4060c83f-30ed-481c-8c50-4f76b5d987e4",
   "metadata": {},
   "outputs": [],
   "source": [
    "bank_users = pd.read_csv(\"bank_users.csv\")\n",
    "# načítanie dát zo súboru .csv"
   ]
  },
  {
   "cell_type": "code",
   "execution_count": 5,
   "id": "19550f4b-7f59-46e4-b9a1-5fbd665202fb",
   "metadata": {},
   "outputs": [
    {
     "data": {
      "text/html": [
       "<div>\n",
       "<style scoped>\n",
       "    .dataframe tbody tr th:only-of-type {\n",
       "        vertical-align: middle;\n",
       "    }\n",
       "\n",
       "    .dataframe tbody tr th {\n",
       "        vertical-align: top;\n",
       "    }\n",
       "\n",
       "    .dataframe thead th {\n",
       "        text-align: right;\n",
       "    }\n",
       "</style>\n",
       "<table border=\"1\" class=\"dataframe\">\n",
       "  <thead>\n",
       "    <tr style=\"text-align: right;\">\n",
       "      <th></th>\n",
       "      <th>first_name</th>\n",
       "      <th>last_name</th>\n",
       "      <th>email</th>\n",
       "      <th>bank_account</th>\n",
       "      <th>born_year</th>\n",
       "      <th>city</th>\n",
       "    </tr>\n",
       "  </thead>\n",
       "  <tbody>\n",
       "    <tr>\n",
       "      <th>0</th>\n",
       "      <td>Shawn</td>\n",
       "      <td>Gotts</td>\n",
       "      <td>sgotts0@newsvine.com</td>\n",
       "      <td>58.0</td>\n",
       "      <td>NaN</td>\n",
       "      <td>Jinchuan</td>\n",
       "    </tr>\n",
       "    <tr>\n",
       "      <th>1</th>\n",
       "      <td>Sergeant</td>\n",
       "      <td>Linsey</td>\n",
       "      <td>slinsey1@qq.com</td>\n",
       "      <td>70.0</td>\n",
       "      <td>2007.0</td>\n",
       "      <td>Tāngāil</td>\n",
       "    </tr>\n",
       "    <tr>\n",
       "      <th>2</th>\n",
       "      <td>Ambrosio</td>\n",
       "      <td>Gorton</td>\n",
       "      <td>agorton2@google.es</td>\n",
       "      <td>48.0</td>\n",
       "      <td>2000.0</td>\n",
       "      <td>Zhushan Chengguanzhen</td>\n",
       "    </tr>\n",
       "    <tr>\n",
       "      <th>3</th>\n",
       "      <td>Gram</td>\n",
       "      <td>Steanyng</td>\n",
       "      <td>gsteanyng3@google.fr</td>\n",
       "      <td>92.0</td>\n",
       "      <td>1970.0</td>\n",
       "      <td>Hongxing</td>\n",
       "    </tr>\n",
       "    <tr>\n",
       "      <th>4</th>\n",
       "      <td>Britt</td>\n",
       "      <td>Cockaday</td>\n",
       "      <td>bcockaday4@t.co</td>\n",
       "      <td>78.0</td>\n",
       "      <td>1985.0</td>\n",
       "      <td>Nangabulik</td>\n",
       "    </tr>\n",
       "    <tr>\n",
       "      <th>...</th>\n",
       "      <td>...</td>\n",
       "      <td>...</td>\n",
       "      <td>...</td>\n",
       "      <td>...</td>\n",
       "      <td>...</td>\n",
       "      <td>...</td>\n",
       "    </tr>\n",
       "    <tr>\n",
       "      <th>195</th>\n",
       "      <td>Franz</td>\n",
       "      <td>Oppy</td>\n",
       "      <td>foppy5f@shutterfly.com</td>\n",
       "      <td>90.0</td>\n",
       "      <td>2020.0</td>\n",
       "      <td>Bílina Kyselka</td>\n",
       "    </tr>\n",
       "    <tr>\n",
       "      <th>196</th>\n",
       "      <td>Adolphus</td>\n",
       "      <td>Labbati</td>\n",
       "      <td>alabbati5g@yellowbook.com</td>\n",
       "      <td>56.0</td>\n",
       "      <td>1984.0</td>\n",
       "      <td>Berlin</td>\n",
       "    </tr>\n",
       "    <tr>\n",
       "      <th>197</th>\n",
       "      <td>Aurelea</td>\n",
       "      <td>Cordery</td>\n",
       "      <td>acordery5h@furl.net</td>\n",
       "      <td>NaN</td>\n",
       "      <td>1992.0</td>\n",
       "      <td>Veshnyaki</td>\n",
       "    </tr>\n",
       "    <tr>\n",
       "      <th>198</th>\n",
       "      <td>Armstrong</td>\n",
       "      <td>Laughren</td>\n",
       "      <td>alaughren5i@yahoo.co.jp</td>\n",
       "      <td>87.0</td>\n",
       "      <td>1983.0</td>\n",
       "      <td>Detik Satu</td>\n",
       "    </tr>\n",
       "    <tr>\n",
       "      <th>199</th>\n",
       "      <td>Henrietta</td>\n",
       "      <td>Peckitt</td>\n",
       "      <td>hpeckitt5j@multiply.com</td>\n",
       "      <td>NaN</td>\n",
       "      <td>1967.0</td>\n",
       "      <td>Phú Lộc</td>\n",
       "    </tr>\n",
       "  </tbody>\n",
       "</table>\n",
       "<p>200 rows × 6 columns</p>\n",
       "</div>"
      ],
      "text/plain": [
       "    first_name last_name                      email  bank_account  born_year  \\\n",
       "0        Shawn     Gotts       sgotts0@newsvine.com          58.0        NaN   \n",
       "1     Sergeant    Linsey            slinsey1@qq.com          70.0     2007.0   \n",
       "2     Ambrosio    Gorton         agorton2@google.es          48.0     2000.0   \n",
       "3         Gram  Steanyng       gsteanyng3@google.fr          92.0     1970.0   \n",
       "4        Britt  Cockaday            bcockaday4@t.co          78.0     1985.0   \n",
       "..         ...       ...                        ...           ...        ...   \n",
       "195      Franz      Oppy     foppy5f@shutterfly.com          90.0     2020.0   \n",
       "196   Adolphus   Labbati  alabbati5g@yellowbook.com          56.0     1984.0   \n",
       "197    Aurelea   Cordery        acordery5h@furl.net           NaN     1992.0   \n",
       "198  Armstrong  Laughren    alaughren5i@yahoo.co.jp          87.0     1983.0   \n",
       "199  Henrietta   Peckitt    hpeckitt5j@multiply.com           NaN     1967.0   \n",
       "\n",
       "                      city  \n",
       "0                 Jinchuan  \n",
       "1                  Tāngāil  \n",
       "2    Zhushan Chengguanzhen  \n",
       "3                 Hongxing  \n",
       "4               Nangabulik  \n",
       "..                     ...  \n",
       "195         Bílina Kyselka  \n",
       "196                 Berlin  \n",
       "197              Veshnyaki  \n",
       "198             Detik Satu  \n",
       "199                Phú Lộc  \n",
       "\n",
       "[200 rows x 6 columns]"
      ]
     },
     "execution_count": 5,
     "metadata": {},
     "output_type": "execute_result"
    }
   ],
   "source": [
    "bank_users"
   ]
  },
  {
   "cell_type": "code",
   "execution_count": 7,
   "id": "0b7a9954-8f8e-4e81-b6a5-1fd4a775f62a",
   "metadata": {},
   "outputs": [
    {
     "data": {
      "text/plain": [
       "pandas.core.frame.DataFrame"
      ]
     },
     "execution_count": 7,
     "metadata": {},
     "output_type": "execute_result"
    }
   ],
   "source": [
    "type(bank_users)\n",
    "# zistenie typu "
   ]
  },
  {
   "cell_type": "code",
   "execution_count": 9,
   "id": "c63ec6bd-88dc-48bc-aa95-8f29c8712ccd",
   "metadata": {},
   "outputs": [
    {
     "data": {
      "text/plain": [
       "0      58.0\n",
       "1      70.0\n",
       "2      48.0\n",
       "3      92.0\n",
       "4      78.0\n",
       "       ... \n",
       "195    90.0\n",
       "196    56.0\n",
       "197     NaN\n",
       "198    87.0\n",
       "199     NaN\n",
       "Name: bank_account, Length: 200, dtype: float64"
      ]
     },
     "execution_count": 9,
     "metadata": {},
     "output_type": "execute_result"
    }
   ],
   "source": [
    "ba = bank_users[\"bank_account\"]\n",
    "ba\n",
    "# vypíše hodnoty stĺpca bank_account"
   ]
  },
  {
   "cell_type": "code",
   "execution_count": 11,
   "id": "aab13cf8-01eb-43ec-87ee-99d9662d5a85",
   "metadata": {},
   "outputs": [
    {
     "data": {
      "text/plain": [
       "pandas.core.series.Series"
      ]
     },
     "execution_count": 11,
     "metadata": {},
     "output_type": "execute_result"
    }
   ],
   "source": [
    "type(ba)\n",
    "# typ stĺpca"
   ]
  },
  {
   "cell_type": "code",
   "execution_count": 13,
   "id": "55debb60-d793-43aa-8a93-b4815b9e7a79",
   "metadata": {},
   "outputs": [
    {
     "data": {
      "text/plain": [
       "10088.0"
      ]
     },
     "execution_count": 13,
     "metadata": {},
     "output_type": "execute_result"
    }
   ],
   "source": [
    "ba.sum()\n",
    "# súčet zostatkov na účtoch"
   ]
  },
  {
   "cell_type": "code",
   "execution_count": 15,
   "id": "92411705-edc6-468f-a4ce-dce32bff58d0",
   "metadata": {},
   "outputs": [
    {
     "data": {
      "text/plain": [
       "56.357541899441344"
      ]
     },
     "execution_count": 15,
     "metadata": {},
     "output_type": "execute_result"
    }
   ],
   "source": [
    "ba.mean()\n",
    "# priemerná hodnota na účtoch"
   ]
  },
  {
   "cell_type": "code",
   "execution_count": 17,
   "id": "4f47a5bf-1993-48f8-8d0c-ca34504eebf8",
   "metadata": {},
   "outputs": [
    {
     "data": {
      "text/plain": [
       "200"
      ]
     },
     "execution_count": 17,
     "metadata": {},
     "output_type": "execute_result"
    }
   ],
   "source": [
    "ba.size\n",
    "# počet riadkov"
   ]
  }
 ],
 "metadata": {
  "kernelspec": {
   "display_name": "Python 3 (ipykernel)",
   "language": "python",
   "name": "python3"
  },
  "language_info": {
   "codemirror_mode": {
    "name": "ipython",
    "version": 3
   },
   "file_extension": ".py",
   "mimetype": "text/x-python",
   "name": "python",
   "nbconvert_exporter": "python",
   "pygments_lexer": "ipython3",
   "version": "3.12.4"
  }
 },
 "nbformat": 4,
 "nbformat_minor": 5
}
